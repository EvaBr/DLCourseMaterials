{
 "cells": [
  {
   "cell_type": "code",
   "execution_count": 15,
   "metadata": {},
   "outputs": [],
   "source": [
    "#imports\n",
    "import numpy as np\n",
    "from keras.datasets import mnist\n",
    "import matplotlib.pyplot as plt"
   ]
  },
  {
   "cell_type": "code",
   "execution_count": 78,
   "metadata": {},
   "outputs": [],
   "source": [
    "#functionalities\n",
    "def sigmoid(x):\n",
    "    s = 1./(1+np.exp(-x))\n",
    "    return s\n",
    "def sigmoidPrime(x):\n",
    "    return sigmoid(x)*(1-sigmoid(x))\n",
    "\n",
    "def relu(x):\n",
    "    return np.maximum(x, 0.0)\n",
    "def reluPrime(x):\n",
    "    return np.where(x>=0, 1.0, 0.0)\n",
    "\n",
    "def softmax(x):\n",
    "    s = np.exp(x)\n",
    "    return s/np.expand_dims(np.sum(s, axis=1), axis=1)\n",
    "\n",
    "def Initialize(inp, out):\n",
    "    \"\"\"in/out number of units in in/out layers.\n",
    "    Returns initialized weights (inp+bias included) x out.\"\"\"\n",
    "    sigma = 0.01\n",
    "    return np.random.normal(0, sigma, (inp, out)) #np.random.randn(inp, out) #np.zeros(shape=(inp+1,out))\n",
    "\n",
    "def InitializeNetworkWeights(hidden_layer_sizes):\n",
    "    #initialize all weights:\n",
    "    W = []\n",
    "    for i in range(1,len(hidden_layer_sizes)):\n",
    "        W.append(Initialize(hidden_layer_sizes[i-1]+1, hidden_layer_sizes[i]))\n",
    "    return W\n",
    "\n",
    "def CostMultiple(Y,p):\n",
    "    \"\"\"Y of size N x m, N samples, m classes.\n",
    "    p also: p=softmax(X*w)\"\"\"\n",
    "    return -np.sum(np.multiply(Y,np.log(p)))/np.size(Y,0)\n",
    "\n",
    "def Accuracy(Y, p):\n",
    "    Y_pred = np.argmax(p, 1)\n",
    "    Y = np.argmax(Y, 1)\n",
    "    return (np.sum(Y==Y_pred))/len(Y)\n",
    "\n",
    "def PassForward(X, wb):\n",
    "    \"\"\"X shaped Nxfeatures, wb featuresIn x featuresOut.\n",
    "    returns NxfeaturesOut p forward pass of model.\"\"\"\n",
    "    X = np.concatenate((X, np.ones((X.shape[0],1))), axis=1)\n",
    "    return np.dot(X, wb)#X@wb\n",
    "\n",
    "def PassBackward(X, wb, activationPrime):\n",
    "    return 0\n",
    "\n",
    "def Predict(X, wb):\n",
    "    \"\"\" X is a batch of images on which to do the forward pass.\n",
    "        (Size 28x28, but flattened, for MNIST, so sized n x 784).\n",
    "        Weights is a matrix of size 784(+1 bias) x out/encoding_size.\"\"\"\n",
    "    #flatten the image before inputing i, and add 1 for bias!\n",
    "    #img = img.flatten()\n",
    "    X = np.concatenate((X, np.ones((X.shape[0],1))), axis=1)\n",
    "    return softmax(X@wb) #size n x num_classes/encoding_size\n",
    "\n",
    "def PassForwardNetwork(X, W, activation):\n",
    "    \"\"\"Pass forward step through the whole network. X is input data, W is a list of weight\n",
    "    matrices per layer (W[0] is the first layer weights, W[1] second... W[-1]is the last,\n",
    "    classification layer weights). activation is the function to use as activation in every\n",
    "    layer, except the last one, which is classification one so we use softmax.\"\"\"\n",
    "    p = [X]\n",
    "    z = []\n",
    "    for layer in range(len(W)-1):\n",
    "        ztmp = PassForward(p[layer], W[layer])\n",
    "        z.append(ztmp)\n",
    "        p.append(activation(ztmp))\n",
    "    #now the last, classification layer with the softmax:\n",
    "    p.append(Predict(p[-1], W[-1]))\n",
    "    #we return the entire list of z's and p's because they will be needed in backward pass\n",
    "    return z,p\n",
    "\n",
    "def PassBackwardNetwork(W, Ps, Zs, Y, activationPrime):\n",
    "    N = Ps[0].shape[0]\n",
    "    odvodi = []\n",
    "    previous = Ps[-1] - Y\n",
    "    odvodi.append(previous)\n",
    "    for layer in range(1,len(W)):\n",
    "        #first extend dimensions for bias:\n",
    "        z, p = Zs[-layer], Ps[-layer-1]\n",
    "        #z = np.concatenate((z, np.ones((z.shape[0],1))), axis=1)\n",
    "        p = np.concatenate((p, np.ones((p.shape[0],1))), axis=1)\n",
    "\n",
    "\n",
    "    #  print(odvodi[-1].shape, W[-layer].T.shape, z.shape, p.shape)\n",
    "        tmp = (odvodi[-1] @ W[-layer][:-1,:].T) * activationPrime(z) #remove last row of W (which is bias).\n",
    "        odvodi[-1] = (p.T@(1/N*odvodi[-1])) #?*1/N\n",
    "        odvodi.append( tmp )\n",
    "    p = Ps[-len(W)-1]\n",
    "    p = np.concatenate((p, np.ones((p.shape[0],1))), axis=1)\n",
    "    odvodi[-1] = p.T@odvodi[-1]/N #to bi moglo bit lih Ps[0]\n",
    "    odvodi.reverse()\n",
    "    return odvodi\n",
    "\n",
    "def UpdateWeights(W, dW, learning_rate, dV, momentum, normalize=None):\n",
    "    for i in range(len(W)):\n",
    "        dV[i] = momentum*dV[i] - learning_rate*dW[i]\n",
    "        W[i] = W[i] + dV[i]\n",
    "    if normalize:\n",
    "        for i in range(len(W)):\n",
    "            W[i] = W[i]/np.max(np.abs(W[i]))\n",
    "    return dV, W\n"
   ]
  },
  {
   "cell_type": "code",
   "execution_count": 129,
   "metadata": {},
   "outputs": [],
   "source": [
    "#get data\n",
    "#X, Y, X_test, Y_test = load_mnist()\n",
    "(X, Y), (X_test, Y_test) = mnist.load_data()\n",
    "X = X.reshape(-1, 784) / 255.\n",
    "X_test = X_test.reshape(-1, 784) / 255."
   ]
  },
  {
   "cell_type": "code",
   "execution_count": 130,
   "metadata": {},
   "outputs": [
    {
     "data": {
      "text/plain": [
       "((60000, 784), (10000, 10))"
      ]
     },
     "execution_count": 130,
     "metadata": {},
     "output_type": "execute_result"
    }
   ],
   "source": [
    "(X.shape, Y.shape)\n",
    "#Y = np.expand_dims(Y, axis=1)\n",
    "#Y_test = np.expand_dims(Y_test, axis=1)\n",
    "from keras.utils import to_categorical\n",
    "Y = to_categorical(Y)\n",
    "Y_test = to_categorical(Y_test)\n",
    "(X.shape, Y_test.shape)\n"
   ]
  },
  {
   "cell_type": "code",
   "execution_count": 56,
   "metadata": {},
   "outputs": [],
   "source": [
    "#k=15\n",
    "#X_all = X\n",
    "#X = X[0:k,:]\n",
    "#Y_all = Y\n",
    "#Y = Y[0:k, :]"
   ]
  },
  {
   "cell_type": "code",
   "execution_count": 164,
   "metadata": {},
   "outputs": [],
   "source": [
    "#Running the code:\n",
    "\n",
    "#with hidden layers\n",
    "m = 10\n",
    "hidden_layer_sizes = [X.shape[1], 512, 512, m]\n",
    "#initialize all weights:\n",
    "W = InitializeNetworkWeights(hidden_layer_sizes)\n",
    "#[W[0].shape, W[1].shape, W[2].shape]\n",
    "dV = [0.0 for i in W]\n",
    "\n",
    "momentum = 0.0\n",
    "batchsize = 128\n",
    "learning_rate = 0.1\n",
    "activfun, activfunPrime = relu, reluPrime #sigmoid, sigmoidPrime\n",
    "epochs = 30"
   ]
  },
  {
   "cell_type": "code",
   "execution_count": 165,
   "metadata": {
    "scrolled": false
   },
   "outputs": [
    {
     "name": "stdout",
     "output_type": "stream",
     "text": [
      "learning rate =  0.1\n",
      "Epoch 1. Test acc: 0.8779, Train acc: 0.6277596393034826\n",
      "Epoch 2. Test acc: 0.9237, Train acc: 0.9027241027007818\n",
      "Epoch 3. Test acc: 0.9423, Train acc: 0.9310478855721392\n",
      "Epoch 4. Test acc: 0.9542, Train acc: 0.947378065031983\n",
      "Epoch 5. Test acc: 0.9613, Train acc: 0.9584388326226013\n",
      "Epoch 6. Test acc: 0.9652, Train acc: 0.9660236762615494\n",
      "Epoch 7. Test acc: 0.969, Train acc: 0.9717150852878464\n",
      "Epoch 8. Test acc: 0.9711, Train acc: 0.9756074538024164\n",
      "Epoch 9. Test acc: 0.9737, Train acc: 0.9788612739872068\n",
      "Epoch 10. Test acc: 0.976, Train acc: 0.9813710465529495\n",
      "Epoch 11. Test acc: 0.9745, Train acc: 0.9839141346837242\n",
      "Epoch 12. Test acc: 0.9771, Train acc: 0.986218461265103\n",
      "Epoch 13. Test acc: 0.9779, Train acc: 0.988250710732054\n",
      "Epoch 14. Test acc: 0.9791, Train acc: 0.9896832800284292\n",
      "Epoch 15. Test acc: 0.9762, Train acc: 0.9907493781094527\n",
      "Epoch 16. Test acc: 0.9796, Train acc: 0.9918876599147122\n",
      "Epoch 17. Test acc: 0.977, Train acc: 0.9932924662402275\n",
      "Epoch 18. Test acc: 0.9798, Train acc: 0.9943696695095949\n",
      "Epoch 19. Test acc: 0.9797, Train acc: 0.9950359808102346\n",
      "Epoch 20. Test acc: 0.9793, Train acc: 0.9962519989339019\n",
      "Epoch 21. Test acc: 0.9817, Train acc: 0.9969183102345416\n",
      "195.97289729118347\n"
     ]
    }
   ],
   "source": [
    "#epochs = 10\n",
    "#learning_rate = 0.001\n",
    "import time \n",
    "\n",
    "vseh = X.shape[0]\n",
    "num_batches = int(np.ceil(vseh/batchsize))\n",
    "\n",
    "batch_acc = np.zeros(num_batches)\n",
    "batch_cost = np.zeros(num_batches)\n",
    "epoch = 0\n",
    "acc_test, cost_test = [], []\n",
    "acc, cost = [], []\n",
    "p_test = PassForwardNetwork(X_test, W, activation=activfun)[1]\n",
    "acc_test.append(Accuracy(Y_test, p_test[-1]))\n",
    "cost_test.append(CostMultiple(Y_test, p_test[-1]))\n",
    "#now train :)\n",
    "print(\"learning rate = \", learning_rate)\n",
    "start = time.time()\n",
    "while acc_test[-1]<0.98:\n",
    "    epoch += 1\n",
    "    perm = np.random.permutation(vseh)\n",
    "    X = X[perm,:]\n",
    "    Y = Y[perm,]\n",
    "\n",
    "    for batch in range(num_batches):\n",
    "        X_train = X[batch*batchsize:(batch+1)*batchsize,:]\n",
    "        Y_train = Y[batch*batchsize:(batch+1)*batchsize,]\n",
    "\n",
    "        N = X_train.shape[0]\n",
    "\n",
    "        #forward:\n",
    "        Zs,Ps = PassForwardNetwork(X_train, W, activation=activfun)\n",
    "\n",
    "        batch_acc[batch] = Accuracy(Y_train, Ps[-1])\n",
    "        batch_cost[batch] = CostMultiple(Y_train, Ps[-1])\n",
    "\n",
    "        #backward (calculate derivatives):\n",
    "        dW = PassBackwardNetwork(W, Ps, Zs, Y_train, activationPrime=activfunPrime)\n",
    "        #do update for each weight:\n",
    "        dV, W = UpdateWeights(W, dW, learning_rate, dV, momentum) #we remember the decaying sum of grads in dV.\n",
    "        \n",
    "    p_test = PassForwardNetwork(X_test, W, activation=activfun)[1]\n",
    "    acc_test.append(Accuracy(Y_test, p_test[-1]))\n",
    "    cost_test.append(CostMultiple(Y_test, p_test[-1]))\n",
    "    #if epoch%10==0: #(acc_test[-1]-acc_test[-2]<=0.003):\n",
    "    #    learning_rate = learning_rate/2\n",
    "        #print(\"learning rate = \", learning_rate)\n",
    "    \n",
    "\n",
    "\n",
    "    acc.append(np.mean(batch_acc))\n",
    "    cost.append(np.mean(batch_cost))\n",
    "    #if epoch%5==0:\n",
    "    print('Epoch {2}. Test acc: {0}, Train acc: {1}'.format(acc_test[-1], acc[-1], epoch))\n",
    "end = time.time()\n",
    "print(end-start)"
   ]
  },
  {
   "cell_type": "code",
   "execution_count": 119,
   "metadata": {},
   "outputs": [],
   "source": [
    "acc_old.append(acc)\n",
    "acc_test_old.append(acc_test[1:])\n",
    "cost_old.append(cost)\n",
    "cost_test_old.append(cost_test)"
   ]
  },
  {
   "cell_type": "code",
   "execution_count": 162,
   "metadata": {},
   "outputs": [
    {
     "data": {
      "image/png": "[encoded data removed]",
      "text/plain": [
       "<Figure size 432x288 with 1 Axes>"
      ]
     },
     "metadata": {
      "needs_background": "light"
     },
     "output_type": "display_data"
    }
   ],
   "source": [
    "#plotting\n",
    "#acc_old = acc\n",
    "#acc_old_test = acc_test\n",
    "\n",
    "epoch_count = [i+1 for i in range(21)]\n",
    "plt.plot(epoch_count, acc[0:21], 'b')\n",
    "plt.plot(epoch_count, acc_test[1:22], 'g')\n",
    "plt.legend(['train', 'test'])\n",
    "plt.xlabel('Epoch')\n",
    "plt.ylabel('Accuracy')\n",
    "plt.show();\n",
    "        "
   ]
  },
  {
   "cell_type": "code",
   "execution_count": 166,
   "metadata": {},
   "outputs": [
    {
     "data": {
      "image/png": "[encoded data removed]",
      "text/plain": [
       "<Figure size 432x288 with 1 Axes>"
      ]
     },
     "metadata": {
      "needs_background": "light"
     },
     "output_type": "display_data"
    }
   ],
   "source": [
    "epoch_count = [i+1 for i in range(21)]\n",
    "plt.plot(epoch_count, cost[0:21], 'b')\n",
    "plt.plot(epoch_count, cost_test[1:22], 'g')\n",
    "plt.legend(['train', 'test'])\n",
    "plt.xlabel('Epoch')\n",
    "plt.ylabel('Accuracy')\n",
    "plt.show();"
   ]
  }
 ],
 "metadata": {
  "kernelspec": {
   "display_name": "Python 3",
   "language": "python",
   "name": "python3"
  },
  "language_info": {
   "codemirror_mode": {
    "name": "ipython",
    "version": 3
   },
   "file_extension": ".py",
   "mimetype": "text/x-python",
   "name": "python",
   "nbconvert_exporter": "python",
   "pygments_lexer": "ipython3",
   "version": "3.6.8"
  }
 },
 "nbformat": 4,
 "nbformat_minor": 2
}
