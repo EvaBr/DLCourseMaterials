{
 "cells": [
  {
   "cell_type": "markdown",
   "metadata": {},
   "source": [
    "# Deep Learning Course \n",
    "### assignment 3: Computer Vision\n",
    "\n",
    "1. MNIST classiffication\n",
    "    1. Fully connected network"
   ]
  },
  {
   "cell_type": "code",
   "execution_count": 22,
   "metadata": {
    "scrolled": true
   },
   "outputs": [
    {
     "name": "stdout",
     "output_type": "stream",
     "text": [
      "(60000, 784) (60000,)\n",
      "(10000, 28, 28, 1) (60000,)\n"
     ]
    },
    {
     "data": {
      "image/png": "[encoded data removed]",
      "text/plain": [
       "<Figure size 432x288 with 5 Axes>"
      ]
     },
     "metadata": {},
     "output_type": "display_data"
    },
    {
     "data": {
      "image/png": "[encoded data removed]",
      "text/plain": [
       "<Figure size 432x288 with 5 Axes>"
      ]
     },
     "metadata": {},
     "output_type": "display_data"
    }
   ],
   "source": [
    "#imports\n",
    "import numpy as np\n",
    "from keras.datasets import mnist\n",
    "from keras.layers import Dense, Activation, Dropout, Conv2D, MaxPooling2D, Reshape, Flatten\n",
    "import matplotlib.pyplot as plt\n",
    "from keras.models import Sequential\n",
    "from keras import optimizers\n",
    "\n",
    "#load data\n",
    "(x_train_2d, y_train), (x_test_2d, y_test) = mnist.load_data()\n",
    "x_train = x_train_2d.reshape(-1,784)/255.0\n",
    "x_test = x_test_2d.reshape(-1,784)/255.0\n",
    "\n",
    "x_train_2d = x_train_2d.reshape(x_train_2d.shape+(1,))/255.0\n",
    "x_test_2d = x_test_2d.reshape(x_test_2d.shape+(1,))/255.0\n",
    "\n",
    "#visualize some\n",
    "def seeDataMNIST(x,y,n=5):\n",
    "    plt.figure()\n",
    "    for i in range(n):\n",
    "        ax = plt.subplot(1, n, i+1)\n",
    "        ax.imshow(x[i,:].reshape(28,28))\n",
    "        ax.set_title(y[i])\n",
    "        ax.set_xticks([])\n",
    "        ax.set_yticks([])\n",
    "        \n",
    "def plot_history(history):\n",
    "    # Visualize loss history\n",
    "    epoch_count = [i+1 for i in range(len(history['loss']))]\n",
    "    plt.plot(epoch_count, history['loss'], 'r--')\n",
    "    if 'val_loss' in history:\n",
    "        plt.plot(epoch_count, history['val_loss'], 'b-')\n",
    "        plt.legend(['Training Loss', 'Validation Loss'])\n",
    "    plt.xlabel('Epoch')\n",
    "    plt.ylabel('Loss')\n",
    "    plt.show();\n",
    "        \n",
    "print(x_train.shape, y_train.shape)\n",
    "print(x_test_2d.shape, y_train.shape)\n",
    "seeDataMNIST(x_train, y_train)\n",
    "seeDataMNIST(x_test, y_test)"
   ]
  },
  {
   "cell_type": "code",
   "execution_count": null,
   "metadata": {},
   "outputs": [],
   "source": [
    "np.unique(x_train[143,:])"
   ]
  },
  {
   "cell_type": "code",
   "execution_count": 82,
   "metadata": {},
   "outputs": [
    {
     "name": "stdout",
     "output_type": "stream",
     "text": [
      "Train on 48000 samples, validate on 12000 samples\n",
      "Epoch 1/30\n",
      "48000/48000 [==============================] - 5s 94us/step - loss: 0.7002 - acc: 0.8128 - val_loss: 0.3350 - val_acc: 0.9052\n",
      "Epoch 2/30\n",
      "48000/48000 [==============================] - 4s 75us/step - loss: 0.3166 - acc: 0.9104 - val_loss: 0.2702 - val_acc: 0.9228\n",
      "Epoch 3/30\n",
      "48000/48000 [==============================] - 4s 83us/step - loss: 0.2620 - acc: 0.9253 - val_loss: 0.2303 - val_acc: 0.9341\n",
      "Epoch 4/30\n",
      "48000/48000 [==============================] - 4s 78us/step - loss: 0.2269 - acc: 0.9354 - val_loss: 0.2072 - val_acc: 0.9448\n",
      "Epoch 5/30\n",
      "48000/48000 [==============================] - 4s 78us/step - loss: 0.2000 - acc: 0.9430 - val_loss: 0.1918 - val_acc: 0.9466\n",
      "Epoch 6/30\n",
      "48000/48000 [==============================] - 4s 84us/step - loss: 0.1787 - acc: 0.9488 - val_loss: 0.1704 - val_acc: 0.9539\n",
      "Epoch 7/30\n",
      "48000/48000 [==============================] - 4s 90us/step - loss: 0.1611 - acc: 0.9539 - val_loss: 0.1592 - val_acc: 0.9563\n",
      "Epoch 8/30\n",
      "48000/48000 [==============================] - 4s 81us/step - loss: 0.1467 - acc: 0.9578 - val_loss: 0.1511 - val_acc: 0.9587\n",
      "Epoch 9/30\n",
      "48000/48000 [==============================] - 4s 88us/step - loss: 0.1342 - acc: 0.9614 - val_loss: 0.1401 - val_acc: 0.9620\n",
      "Epoch 10/30\n",
      "48000/48000 [==============================] - 4s 85us/step - loss: 0.1236 - acc: 0.9653 - val_loss: 0.1366 - val_acc: 0.9633\n",
      "Epoch 11/30\n",
      "48000/48000 [==============================] - 4s 82us/step - loss: 0.1150 - acc: 0.9674 - val_loss: 0.1289 - val_acc: 0.9650\n",
      "Epoch 12/30\n",
      "48000/48000 [==============================] - 4s 91us/step - loss: 0.1065 - acc: 0.9700 - val_loss: 0.1247 - val_acc: 0.9660\n",
      "Epoch 13/30\n",
      "48000/48000 [==============================] - 4s 81us/step - loss: 0.0998 - acc: 0.9725 - val_loss: 0.1200 - val_acc: 0.9674\n",
      "Epoch 14/30\n",
      "48000/48000 [==============================] - 4s 82us/step - loss: 0.0933 - acc: 0.9745 - val_loss: 0.1165 - val_acc: 0.9674\n",
      "Epoch 15/30\n",
      "48000/48000 [==============================] - 4s 82us/step - loss: 0.0874 - acc: 0.9759 - val_loss: 0.1154 - val_acc: 0.9675\n",
      "Epoch 16/30\n",
      "48000/48000 [==============================] - 4s 87us/step - loss: 0.0823 - acc: 0.9774 - val_loss: 0.1163 - val_acc: 0.9666\n",
      "Epoch 17/30\n",
      "48000/48000 [==============================] - 4s 81us/step - loss: 0.0771 - acc: 0.9785 - val_loss: 0.1101 - val_acc: 0.9696\n",
      "Epoch 18/30\n",
      "48000/48000 [==============================] - 4s 82us/step - loss: 0.0732 - acc: 0.9795 - val_loss: 0.1094 - val_acc: 0.9692\n",
      "Epoch 19/30\n",
      "48000/48000 [==============================] - 4s 82us/step - loss: 0.0689 - acc: 0.9811 - val_loss: 0.1080 - val_acc: 0.9681\n",
      "Epoch 20/30\n",
      "48000/48000 [==============================] - 4s 82us/step - loss: 0.0653 - acc: 0.9823 - val_loss: 0.1018 - val_acc: 0.9710\n",
      "Epoch 21/30\n",
      "48000/48000 [==============================] - 4s 88us/step - loss: 0.0617 - acc: 0.9834 - val_loss: 0.1030 - val_acc: 0.9714\n",
      "Epoch 22/30\n",
      "48000/48000 [==============================] - 4s 83us/step - loss: 0.0585 - acc: 0.9843 - val_loss: 0.1003 - val_acc: 0.9709\n",
      "Epoch 23/30\n",
      "48000/48000 [==============================] - 4s 83us/step - loss: 0.0554 - acc: 0.9855 - val_loss: 0.0990 - val_acc: 0.9725\n",
      "Epoch 24/30\n",
      "48000/48000 [==============================] - 4s 90us/step - loss: 0.0527 - acc: 0.9865 - val_loss: 0.0996 - val_acc: 0.9724\n",
      "Epoch 25/30\n",
      "48000/48000 [==============================] - 4s 85us/step - loss: 0.0498 - acc: 0.9872 - val_loss: 0.1003 - val_acc: 0.9710\n",
      "Epoch 26/30\n",
      "48000/48000 [==============================] - 4s 83us/step - loss: 0.0476 - acc: 0.9879 - val_loss: 0.0961 - val_acc: 0.9724\n",
      "Epoch 27/30\n",
      "48000/48000 [==============================] - 4s 88us/step - loss: 0.0453 - acc: 0.9882 - val_loss: 0.0956 - val_acc: 0.9731\n",
      "Epoch 28/30\n",
      "48000/48000 [==============================] - 4s 83us/step - loss: 0.0431 - acc: 0.9894 - val_loss: 0.0951 - val_acc: 0.9738\n",
      "Epoch 29/30\n",
      "48000/48000 [==============================] - 4s 83us/step - loss: 0.0408 - acc: 0.9899 - val_loss: 0.0954 - val_acc: 0.9732\n",
      "Epoch 30/30\n",
      "48000/48000 [==============================] - 4s 89us/step - loss: 0.0392 - acc: 0.9897 - val_loss: 0.0932 - val_acc: 0.9737\n",
      "10000/10000 [==============================] - 0s 38us/step\n",
      "Test accuracy: 0.9748\n"
     ]
    },
    {
     "data": {
      "image/png": "[encoded data removed]",
      "text/plain": [
       "<Figure size 432x288 with 1 Axes>"
      ]
     },
     "metadata": {
      "needs_background": "light"
     },
     "output_type": "display_data"
    }
   ],
   "source": [
    "#densely connected network\n",
    "model = Sequential()\n",
    "model.add(Dense(128, input_shape=(784,)))\n",
    "model.add(Activation('relu'))\n",
    "model.add(Dense(64))\n",
    "model.add(Activation('relu'))\n",
    "model.add(Dense(10))\n",
    "model.add(Activation('softmax'))\n",
    "\n",
    "#train it\n",
    "epoh=30\n",
    "model.compile(optimizer='sgd',\n",
    "              loss='sparse_categorical_crossentropy',\n",
    "              metrics=['accuracy'])\n",
    "hist = model.fit(x_train, y_train, epochs=epoh, validation_split=0.2)\n",
    "\n",
    "test_loss, test_acc = model.evaluate(x_test, y_test)\n",
    "\n",
    "print('Test accuracy:', test_acc)\n",
    "\n",
    "plot_history(hist.history)"
   ]
  },
  {
   "cell_type": "code",
   "execution_count": 78,
   "metadata": {},
   "outputs": [
    {
     "name": "stdout",
     "output_type": "stream",
     "text": [
      "_________________________________________________________________\n",
      "Layer (type)                 Output Shape              Param #   \n",
      "=================================================================\n",
      "dense_42 (Dense)             (None, 256)               200960    \n",
      "_________________________________________________________________\n",
      "activation_139 (Activation)  (None, 256)               0         \n",
      "_________________________________________________________________\n",
      "dense_43 (Dense)             (None, 10)                2570      \n",
      "_________________________________________________________________\n",
      "activation_140 (Activation)  (None, 10)                0         \n",
      "=================================================================\n",
      "Total params: 203,530\n",
      "Trainable params: 203,530\n",
      "Non-trainable params: 0\n",
      "_________________________________________________________________\n"
     ]
    }
   ],
   "source": [
    "model.summary()\n"
   ]
  },
  {
   "cell_type": "markdown",
   "metadata": {},
   "source": [
    "##### Compare performance with your previous results;  do youobserve similar accuracy?  how many times faster/slower was your own implementation? \n",
    "\n",
    "Accuracy achieved is similar to the one I was able to achieve with my code, but it is acquired more easily, with much less code and quite a few times faster convergence. "
   ]
  },
  {
   "cell_type": "markdown",
   "metadata": {},
   "source": [
    "\n",
    "\n",
    "\n",
    "    1.2. Convolutional network"
   ]
  },
  {
   "cell_type": "code",
   "execution_count": 81,
   "metadata": {},
   "outputs": [
    {
     "name": "stdout",
     "output_type": "stream",
     "text": [
      "Train on 48000 samples, validate on 12000 samples\n",
      "Epoch 1/30\n",
      "48000/48000 [==============================] - 14s 282us/step - loss: 0.8738 - acc: 0.7376 - val_loss: 0.3241 - val_acc: 0.9028\n",
      "Epoch 2/30\n",
      "48000/48000 [==============================] - 12s 248us/step - loss: 0.2807 - acc: 0.9156 - val_loss: 0.2253 - val_acc: 0.9335\n",
      "Epoch 3/30\n",
      "48000/48000 [==============================] - 12s 249us/step - loss: 0.1992 - acc: 0.9397 - val_loss: 0.1665 - val_acc: 0.9504\n",
      "Epoch 4/30\n",
      "48000/48000 [==============================] - 12s 255us/step - loss: 0.1535 - acc: 0.9538 - val_loss: 0.1394 - val_acc: 0.9590\n",
      "Epoch 5/30\n",
      "48000/48000 [==============================] - 12s 255us/step - loss: 0.1256 - acc: 0.9628 - val_loss: 0.1102 - val_acc: 0.9681\n",
      "Epoch 6/30\n",
      "48000/48000 [==============================] - 12s 258us/step - loss: 0.1071 - acc: 0.9679 - val_loss: 0.1015 - val_acc: 0.9706\n",
      "Epoch 7/30\n",
      "48000/48000 [==============================] - 12s 256us/step - loss: 0.0936 - acc: 0.9713 - val_loss: 0.0905 - val_acc: 0.9734\n",
      "Epoch 8/30\n",
      "48000/48000 [==============================] - 12s 258us/step - loss: 0.0843 - acc: 0.9746 - val_loss: 0.0878 - val_acc: 0.9732\n",
      "Epoch 9/30\n",
      "48000/48000 [==============================] - 13s 266us/step - loss: 0.0775 - acc: 0.9766 - val_loss: 0.0797 - val_acc: 0.9752\n",
      "Epoch 10/30\n",
      "48000/48000 [==============================] - 13s 264us/step - loss: 0.0712 - acc: 0.9785 - val_loss: 0.0774 - val_acc: 0.9760\n",
      "Epoch 11/30\n",
      "48000/48000 [==============================] - 13s 263us/step - loss: 0.0667 - acc: 0.9796 - val_loss: 0.0760 - val_acc: 0.9762\n",
      "Epoch 12/30\n",
      "48000/48000 [==============================] - 13s 265us/step - loss: 0.0628 - acc: 0.9812 - val_loss: 0.0722 - val_acc: 0.9769\n",
      "Epoch 13/30\n",
      "48000/48000 [==============================] - 13s 268us/step - loss: 0.0591 - acc: 0.9822 - val_loss: 0.0686 - val_acc: 0.9779\n",
      "Epoch 14/30\n",
      "48000/48000 [==============================] - 13s 273us/step - loss: 0.0559 - acc: 0.9830 - val_loss: 0.0647 - val_acc: 0.9798\n",
      "Epoch 15/30\n",
      "48000/48000 [==============================] - 13s 274us/step - loss: 0.0538 - acc: 0.9832 - val_loss: 0.0620 - val_acc: 0.9803\n",
      "Epoch 16/30\n",
      "48000/48000 [==============================] - 13s 270us/step - loss: 0.0508 - acc: 0.9843 - val_loss: 0.0645 - val_acc: 0.9800\n",
      "Epoch 17/30\n",
      "48000/48000 [==============================] - 13s 267us/step - loss: 0.0486 - acc: 0.9847 - val_loss: 0.0618 - val_acc: 0.9810\n",
      "Epoch 18/30\n",
      "48000/48000 [==============================] - 13s 268us/step - loss: 0.0468 - acc: 0.9854 - val_loss: 0.0618 - val_acc: 0.9810\n",
      "Epoch 19/30\n",
      "48000/48000 [==============================] - 13s 263us/step - loss: 0.0446 - acc: 0.9859 - val_loss: 0.0596 - val_acc: 0.9814\n",
      "Epoch 20/30\n",
      "48000/48000 [==============================] - 13s 271us/step - loss: 0.0428 - acc: 0.9866 - val_loss: 0.0550 - val_acc: 0.9832\n",
      "Epoch 21/30\n",
      "48000/48000 [==============================] - 13s 271us/step - loss: 0.0405 - acc: 0.9869 - val_loss: 0.0563 - val_acc: 0.9827\n",
      "Epoch 22/30\n",
      "48000/48000 [==============================] - 13s 271us/step - loss: 0.0400 - acc: 0.9875 - val_loss: 0.0558 - val_acc: 0.9839\n",
      "Epoch 23/30\n",
      "48000/48000 [==============================] - 13s 272us/step - loss: 0.0384 - acc: 0.9877 - val_loss: 0.0532 - val_acc: 0.9848\n",
      "Epoch 24/30\n",
      "48000/48000 [==============================] - 13s 274us/step - loss: 0.0366 - acc: 0.9885 - val_loss: 0.0535 - val_acc: 0.9840\n",
      "Epoch 25/30\n",
      "48000/48000 [==============================] - 13s 273us/step - loss: 0.0361 - acc: 0.9888 - val_loss: 0.0558 - val_acc: 0.9833\n",
      "Epoch 26/30\n",
      "48000/48000 [==============================] - 13s 272us/step - loss: 0.0344 - acc: 0.9895 - val_loss: 0.0529 - val_acc: 0.9838\n",
      "Epoch 27/30\n",
      "48000/48000 [==============================] - 13s 276us/step - loss: 0.0335 - acc: 0.9894 - val_loss: 0.0521 - val_acc: 0.9846\n",
      "Epoch 28/30\n",
      "48000/48000 [==============================] - 13s 276us/step - loss: 0.0323 - acc: 0.9900 - val_loss: 0.0628 - val_acc: 0.9818\n",
      "Epoch 29/30\n",
      "48000/48000 [==============================] - 13s 280us/step - loss: 0.0311 - acc: 0.9900 - val_loss: 0.0540 - val_acc: 0.9839\n",
      "Epoch 30/30\n",
      "48000/48000 [==============================] - 15s 318us/step - loss: 0.0305 - acc: 0.9903 - val_loss: 0.0514 - val_acc: 0.9843\n",
      "10000/10000 [==============================] - 1s 146us/step\n",
      "Test accuracy: 0.9878\n"
     ]
    },
    {
     "data": {
      "image/png": "[encoded data removed]",
      "text/plain": [
       "<Figure size 432x288 with 1 Axes>"
      ]
     },
     "metadata": {
      "needs_background": "light"
     },
     "output_type": "display_data"
    }
   ],
   "source": [
    "conv_model = Sequential()\n",
    "conv_model.add(Conv2D(8, (3,3), padding='same', input_shape=(28,28,1)))\n",
    "conv_model.add(Activation('relu'))\n",
    "conv_model.add(MaxPooling2D(pool_size=(2, 2)))\n",
    "conv_model.add(Conv2D(16, (3,3), padding='same'))\n",
    "conv_model.add(Activation('relu'))\n",
    "conv_model.add(MaxPooling2D(pool_size=(2, 2)))\n",
    "conv_model.add(Conv2D(32, (3,3), padding='same'))\n",
    "conv_model.add(Activation('relu'))\n",
    "conv_model.add(Flatten())\n",
    "conv_model.add(Dense(10))\n",
    "conv_model.add(Activation('softmax'))\n",
    "\n",
    "#train it\n",
    "epoh=30\n",
    "minibatch = 64\n",
    "\n",
    "#change lr, minibatch size, num epochs. for good convergence. get to 98+\n",
    "sgd = optimizers.SGD(lr=0.01)\n",
    "adam = optimizers.Adam(lr=0.001, beta_1=0.9, beta_2=0.999)\n",
    "\n",
    "conv_model.compile(optimizer=sgd,\n",
    "              loss='sparse_categorical_crossentropy',\n",
    "              metrics=['accuracy'])\n",
    "hist = conv_model.fit(x_train_2d, y_train, epochs=epoh, batch_size=minibatch, validation_split=0.2)\n",
    "\n",
    "test_loss, test_acc = conv_model.evaluate(x_test_2d, y_test)\n",
    "\n",
    "print('Test accuracy:', test_acc)\n",
    "\n",
    "plot_history(hist.history)"
   ]
  },
  {
   "cell_type": "code",
   "execution_count": 62,
   "metadata": {},
   "outputs": [
    {
     "name": "stdout",
     "output_type": "stream",
     "text": [
      "_________________________________________________________________\n",
      "Layer (type)                 Output Shape              Param #   \n",
      "=================================================================\n",
      "conv2d_81 (Conv2D)           (None, 28, 28, 8)         80        \n",
      "_________________________________________________________________\n",
      "activation_111 (Activation)  (None, 28, 28, 8)         0         \n",
      "_________________________________________________________________\n",
      "max_pooling2d_54 (MaxPooling (None, 14, 14, 8)         0         \n",
      "_________________________________________________________________\n",
      "conv2d_82 (Conv2D)           (None, 14, 14, 16)        1168      \n",
      "_________________________________________________________________\n",
      "activation_112 (Activation)  (None, 14, 14, 16)        0         \n",
      "_________________________________________________________________\n",
      "max_pooling2d_55 (MaxPooling (None, 7, 7, 16)          0         \n",
      "_________________________________________________________________\n",
      "conv2d_83 (Conv2D)           (None, 7, 7, 32)          4640      \n",
      "_________________________________________________________________\n",
      "activation_113 (Activation)  (None, 7, 7, 32)          0         \n",
      "_________________________________________________________________\n",
      "flatten_2 (Flatten)          (None, 1568)              0         \n",
      "_________________________________________________________________\n",
      "dense_32 (Dense)             (None, 10)                15690     \n",
      "_________________________________________________________________\n",
      "activation_114 (Activation)  (None, 10)                0         \n",
      "=================================================================\n",
      "Total params: 21,578\n",
      "Trainable params: 21,578\n",
      "Non-trainable params: 0\n",
      "_________________________________________________________________\n"
     ]
    }
   ],
   "source": [
    "conv_model.summary()"
   ]
  },
  {
   "cell_type": "markdown",
   "metadata": {},
   "source": [
    "##### How many learnable weights does this network contain?  Compare with how many weights youhad in the previous exercise.\n",
    "\n",
    "After some tries I chose minibatch size 64, learning rate of 0.01 and after 30 epochs, this gave an accuracy of 0.9885 on the test set. \n",
    "The number of trainable weights now was only 21,578 while before it was much higher, at 203,530.\n"
   ]
  },
  {
   "cell_type": "markdown",
   "metadata": {},
   "source": [
    "        1.3. Exchange ReLU and MaxPooling"
   ]
  },
  {
   "cell_type": "code",
   "execution_count": 83,
   "metadata": {},
   "outputs": [
    {
     "name": "stdout",
     "output_type": "stream",
     "text": [
      "Train on 48000 samples, validate on 12000 samples\n",
      "Epoch 1/30\n",
      "48000/48000 [==============================] - 13s 266us/step - loss: 0.9318 - acc: 0.7474 - val_loss: 0.2794 - val_acc: 0.9193\n",
      "Epoch 2/30\n",
      "48000/48000 [==============================] - 13s 265us/step - loss: 0.2528 - acc: 0.9242 - val_loss: 0.1862 - val_acc: 0.9452\n",
      "Epoch 3/30\n",
      "48000/48000 [==============================] - 15s 309us/step - loss: 0.1751 - acc: 0.9471 - val_loss: 0.1422 - val_acc: 0.9571\n",
      "Epoch 4/30\n",
      "48000/48000 [==============================] - 13s 266us/step - loss: 0.1346 - acc: 0.9591 - val_loss: 0.1254 - val_acc: 0.9623\n",
      "Epoch 5/30\n",
      "48000/48000 [==============================] - 13s 265us/step - loss: 0.1135 - acc: 0.9657 - val_loss: 0.1044 - val_acc: 0.9677\n",
      "Epoch 6/30\n",
      "48000/48000 [==============================] - 13s 272us/step - loss: 0.0990 - acc: 0.9699 - val_loss: 0.0993 - val_acc: 0.9698\n",
      "Epoch 7/30\n",
      "48000/48000 [==============================] - 13s 264us/step - loss: 0.0897 - acc: 0.9725 - val_loss: 0.0871 - val_acc: 0.9737\n",
      "Epoch 8/30\n",
      "48000/48000 [==============================] - 13s 263us/step - loss: 0.0822 - acc: 0.9748 - val_loss: 0.0819 - val_acc: 0.9749\n",
      "Epoch 9/30\n",
      "48000/48000 [==============================] - 13s 269us/step - loss: 0.0753 - acc: 0.9775 - val_loss: 0.0862 - val_acc: 0.9743\n",
      "Epoch 10/30\n",
      "48000/48000 [==============================] - 14s 283us/step - loss: 0.0705 - acc: 0.9788 - val_loss: 0.0729 - val_acc: 0.9774\n",
      "Epoch 11/30\n",
      "48000/48000 [==============================] - 13s 276us/step - loss: 0.0660 - acc: 0.9796 - val_loss: 0.0697 - val_acc: 0.9784\n",
      "Epoch 12/30\n",
      "48000/48000 [==============================] - 13s 279us/step - loss: 0.0627 - acc: 0.9810 - val_loss: 0.0775 - val_acc: 0.9767\n",
      "Epoch 13/30\n",
      "48000/48000 [==============================] - 13s 278us/step - loss: 0.0595 - acc: 0.9816 - val_loss: 0.0808 - val_acc: 0.9756\n",
      "Epoch 14/30\n",
      "48000/48000 [==============================] - 13s 279us/step - loss: 0.0561 - acc: 0.9826 - val_loss: 0.0651 - val_acc: 0.9822\n",
      "Epoch 15/30\n",
      "48000/48000 [==============================] - 14s 287us/step - loss: 0.0535 - acc: 0.9840 - val_loss: 0.0698 - val_acc: 0.9788\n",
      "Epoch 16/30\n",
      "48000/48000 [==============================] - 14s 284us/step - loss: 0.0508 - acc: 0.9843 - val_loss: 0.0650 - val_acc: 0.9805\n",
      "Epoch 17/30\n",
      "48000/48000 [==============================] - 14s 283us/step - loss: 0.0489 - acc: 0.9849 - val_loss: 0.0602 - val_acc: 0.9821\n",
      "Epoch 18/30\n",
      "48000/48000 [==============================] - 14s 294us/step - loss: 0.0470 - acc: 0.9859 - val_loss: 0.0579 - val_acc: 0.9833\n",
      "Epoch 19/30\n",
      "48000/48000 [==============================] - 14s 282us/step - loss: 0.0447 - acc: 0.9865 - val_loss: 0.0604 - val_acc: 0.9811\n",
      "Epoch 20/30\n",
      "48000/48000 [==============================] - 14s 293us/step - loss: 0.0435 - acc: 0.9864 - val_loss: 0.0555 - val_acc: 0.9838\n",
      "Epoch 21/30\n",
      "48000/48000 [==============================] - 13s 281us/step - loss: 0.0413 - acc: 0.9871 - val_loss: 0.0558 - val_acc: 0.9835\n",
      "Epoch 22/30\n",
      "48000/48000 [==============================] - 14s 287us/step - loss: 0.0402 - acc: 0.9876 - val_loss: 0.0564 - val_acc: 0.9834\n",
      "Epoch 23/30\n",
      "48000/48000 [==============================] - 14s 288us/step - loss: 0.0386 - acc: 0.9881 - val_loss: 0.0617 - val_acc: 0.9815\n",
      "Epoch 24/30\n",
      "48000/48000 [==============================] - 14s 286us/step - loss: 0.0377 - acc: 0.9879 - val_loss: 0.0521 - val_acc: 0.9848\n",
      "Epoch 25/30\n",
      "48000/48000 [==============================] - 14s 292us/step - loss: 0.0361 - acc: 0.9890 - val_loss: 0.0533 - val_acc: 0.9845\n",
      "Epoch 26/30\n",
      "48000/48000 [==============================] - 14s 299us/step - loss: 0.0350 - acc: 0.9896 - val_loss: 0.0586 - val_acc: 0.9822\n",
      "Epoch 27/30\n",
      "48000/48000 [==============================] - 14s 300us/step - loss: 0.0344 - acc: 0.9894 - val_loss: 0.0515 - val_acc: 0.9852\n",
      "Epoch 28/30\n",
      "48000/48000 [==============================] - 15s 303us/step - loss: 0.0329 - acc: 0.9902 - val_loss: 0.0533 - val_acc: 0.9841\n",
      "Epoch 29/30\n",
      "48000/48000 [==============================] - 15s 307us/step - loss: 0.0314 - acc: 0.9904 - val_loss: 0.0536 - val_acc: 0.9837\n",
      "Epoch 30/30\n",
      "48000/48000 [==============================] - 15s 304us/step - loss: 0.0304 - acc: 0.9907 - val_loss: 0.0529 - val_acc: 0.9840\n",
      "10000/10000 [==============================] - 2s 162us/step\n",
      "Test accuracy: 0.9847\n"
     ]
    },
    {
     "data": {
      "image/png": "[encoded data removed]",
      "text/plain": [
       "<Figure size 432x288 with 1 Axes>"
      ]
     },
     "metadata": {
      "needs_background": "light"
     },
     "output_type": "display_data"
    }
   ],
   "source": [
    "aktivacija = 'relu' #'tanh'\n",
    "conv_model2 = Sequential()\n",
    "conv_model2.add(Conv2D(8, (3,3), padding='same', input_shape=(28,28,1)))\n",
    "conv_model2.add(MaxPooling2D(pool_size=(2, 2)))\n",
    "conv_model2.add(Activation(aktivacija))\n",
    "conv_model2.add(Conv2D(16, (3,3), padding='same'))\n",
    "conv_model2.add(MaxPooling2D(pool_size=(2, 2)))\n",
    "conv_model2.add(Activation(aktivacija))\n",
    "conv_model2.add(Conv2D(32, (3,3), padding='same'))\n",
    "conv_model2.add(Activation(aktivacija))\n",
    "conv_model2.add(Flatten())\n",
    "conv_model2.add(Dense(10))\n",
    "conv_model2.add(Activation('softmax'))\n",
    "\n",
    "conv_model2.compile(optimizer=sgd,\n",
    "              loss='sparse_categorical_crossentropy',\n",
    "              metrics=['accuracy'])\n",
    "hist = conv_model2.fit(x_train_2d, y_train, epochs=epoh, batch_size=minibatch, validation_split=0.2)\n",
    "\n",
    "test_loss, test_acc = conv_model2.evaluate(x_test_2d, y_test)\n",
    "\n",
    "print('Test accuracy:', test_acc)\n",
    "\n",
    "plot_history(hist.history)"
   ]
  },
  {
   "cell_type": "code",
   "execution_count": 86,
   "metadata": {},
   "outputs": [
    {
     "name": "stdout",
     "output_type": "stream",
     "text": [
      "Train on 48000 samples, validate on 12000 samples\n",
      "Epoch 1/30\n",
      "48000/48000 [==============================] - 14s 295us/step - loss: 0.9800 - acc: 0.7565 - val_loss: 0.3837 - val_acc: 0.8924\n",
      "Epoch 2/30\n",
      "48000/48000 [==============================] - 13s 276us/step - loss: 0.3550 - acc: 0.8977 - val_loss: 0.2891 - val_acc: 0.9183\n",
      "Epoch 3/30\n",
      "48000/48000 [==============================] - 14s 284us/step - loss: 0.2853 - acc: 0.9168 - val_loss: 0.2454 - val_acc: 0.9283\n",
      "Epoch 4/30\n",
      "48000/48000 [==============================] - 14s 296us/step - loss: 0.2442 - acc: 0.9282 - val_loss: 0.2134 - val_acc: 0.9392\n",
      "Epoch 5/30\n",
      "48000/48000 [==============================] - 14s 298us/step - loss: 0.2138 - acc: 0.9366 - val_loss: 0.1895 - val_acc: 0.9452\n",
      "Epoch 6/30\n",
      "48000/48000 [==============================] - 13s 276us/step - loss: 0.1900 - acc: 0.9445 - val_loss: 0.1712 - val_acc: 0.9510\n",
      "Epoch 7/30\n",
      "48000/48000 [==============================] - 13s 279us/step - loss: 0.1705 - acc: 0.9498 - val_loss: 0.1558 - val_acc: 0.9547\n",
      "Epoch 8/30\n",
      "48000/48000 [==============================] - 14s 288us/step - loss: 0.1543 - acc: 0.9537 - val_loss: 0.1418 - val_acc: 0.9603\n",
      "Epoch 9/30\n",
      "48000/48000 [==============================] - 15s 304us/step - loss: 0.1408 - acc: 0.9583 - val_loss: 0.1298 - val_acc: 0.9626\n",
      "Epoch 10/30\n",
      "48000/48000 [==============================] - 12s 255us/step - loss: 0.1294 - acc: 0.9616 - val_loss: 0.1216 - val_acc: 0.9656\n",
      "Epoch 11/30\n",
      "48000/48000 [==============================] - 13s 266us/step - loss: 0.1200 - acc: 0.9647 - val_loss: 0.1133 - val_acc: 0.9681\n",
      "Epoch 12/30\n",
      "48000/48000 [==============================] - 12s 255us/step - loss: 0.1117 - acc: 0.9669 - val_loss: 0.1076 - val_acc: 0.9692\n",
      "Epoch 13/30\n",
      "48000/48000 [==============================] - 12s 256us/step - loss: 0.1049 - acc: 0.9691 - val_loss: 0.1015 - val_acc: 0.9710\n",
      "Epoch 14/30\n",
      "48000/48000 [==============================] - 12s 256us/step - loss: 0.0990 - acc: 0.9712 - val_loss: 0.0961 - val_acc: 0.9725\n",
      "Epoch 15/30\n",
      "48000/48000 [==============================] - 13s 262us/step - loss: 0.0939 - acc: 0.9724 - val_loss: 0.0916 - val_acc: 0.9734\n",
      "Epoch 16/30\n",
      "48000/48000 [==============================] - 12s 256us/step - loss: 0.0894 - acc: 0.9739 - val_loss: 0.0884 - val_acc: 0.9741\n",
      "Epoch 17/30\n",
      "48000/48000 [==============================] - 13s 265us/step - loss: 0.0855 - acc: 0.9752 - val_loss: 0.0853 - val_acc: 0.9748\n",
      "Epoch 18/30\n",
      "48000/48000 [==============================] - 13s 261us/step - loss: 0.0820 - acc: 0.9764 - val_loss: 0.0834 - val_acc: 0.9765\n",
      "Epoch 19/30\n",
      "48000/48000 [==============================] - 14s 297us/step - loss: 0.0788 - acc: 0.9773 - val_loss: 0.0809 - val_acc: 0.9762\n",
      "Epoch 20/30\n",
      "48000/48000 [==============================] - 14s 290us/step - loss: 0.0760 - acc: 0.9782 - val_loss: 0.0783 - val_acc: 0.9770\n",
      "Epoch 21/30\n",
      "48000/48000 [==============================] - 14s 287us/step - loss: 0.0733 - acc: 0.9790 - val_loss: 0.0761 - val_acc: 0.9772\n",
      "Epoch 22/30\n",
      "48000/48000 [==============================] - 14s 295us/step - loss: 0.0711 - acc: 0.9793 - val_loss: 0.0752 - val_acc: 0.9780\n",
      "Epoch 23/30\n",
      "48000/48000 [==============================] - 14s 300us/step - loss: 0.0689 - acc: 0.9804 - val_loss: 0.0730 - val_acc: 0.9785\n",
      "Epoch 24/30\n",
      "48000/48000 [==============================] - 14s 295us/step - loss: 0.0669 - acc: 0.9807 - val_loss: 0.0710 - val_acc: 0.9801\n",
      "Epoch 25/30\n",
      "48000/48000 [==============================] - 16s 326us/step - loss: 0.0650 - acc: 0.9810 - val_loss: 0.0693 - val_acc: 0.9798\n",
      "Epoch 26/30\n",
      "48000/48000 [==============================] - 15s 309us/step - loss: 0.0633 - acc: 0.9817 - val_loss: 0.0685 - val_acc: 0.9807\n",
      "Epoch 27/30\n",
      "48000/48000 [==============================] - 15s 302us/step - loss: 0.0617 - acc: 0.9819 - val_loss: 0.0668 - val_acc: 0.9815\n",
      "Epoch 28/30\n",
      "48000/48000 [==============================] - 14s 294us/step - loss: 0.0601 - acc: 0.9825 - val_loss: 0.0669 - val_acc: 0.9804\n",
      "Epoch 29/30\n",
      "48000/48000 [==============================] - 15s 305us/step - loss: 0.0589 - acc: 0.9831 - val_loss: 0.0647 - val_acc: 0.9809\n",
      "Epoch 30/30\n",
      "48000/48000 [==============================] - 14s 301us/step - loss: 0.0575 - acc: 0.9834 - val_loss: 0.0631 - val_acc: 0.9814\n",
      "10000/10000 [==============================] - 2s 174us/step\n",
      "Test accuracy: 0.9814\n",
      "Time elapsed: 409.4790712239919\n"
     ]
    },
    {
     "data": {
      "image/png": "[encoded data removed]",
      "text/plain": [
       "<Figure size 432x288 with 1 Axes>"
      ]
     },
     "metadata": {
      "needs_background": "light"
     },
     "output_type": "display_data"
    },
    {
     "name": "stdout",
     "output_type": "stream",
     "text": [
      "Train on 48000 samples, validate on 12000 samples\n",
      "Epoch 1/30\n",
      "48000/48000 [==============================] - 13s 279us/step - loss: 0.9372 - acc: 0.7540 - val_loss: 0.3925 - val_acc: 0.8900\n",
      "Epoch 2/30\n",
      "48000/48000 [==============================] - 13s 262us/step - loss: 0.3642 - acc: 0.8944 - val_loss: 0.2912 - val_acc: 0.9190\n",
      "Epoch 3/30\n",
      "48000/48000 [==============================] - 12s 255us/step - loss: 0.2877 - acc: 0.9154 - val_loss: 0.2414 - val_acc: 0.9323\n",
      "Epoch 4/30\n",
      "48000/48000 [==============================] - 12s 259us/step - loss: 0.2425 - acc: 0.9286 - val_loss: 0.2093 - val_acc: 0.9392\n",
      "Epoch 5/30\n",
      "48000/48000 [==============================] - 12s 259us/step - loss: 0.2097 - acc: 0.9382 - val_loss: 0.1823 - val_acc: 0.9469\n",
      "Epoch 6/30\n",
      "48000/48000 [==============================] - 12s 257us/step - loss: 0.1843 - acc: 0.9454 - val_loss: 0.1622 - val_acc: 0.9529\n",
      "Epoch 7/30\n",
      "48000/48000 [==============================] - 13s 268us/step - loss: 0.1640 - acc: 0.9521 - val_loss: 0.1479 - val_acc: 0.9576\n",
      "Epoch 8/30\n",
      "48000/48000 [==============================] - 12s 259us/step - loss: 0.1482 - acc: 0.9562 - val_loss: 0.1338 - val_acc: 0.9631\n",
      "Epoch 9/30\n",
      "48000/48000 [==============================] - 12s 260us/step - loss: 0.1357 - acc: 0.9596 - val_loss: 0.1243 - val_acc: 0.9645\n",
      "Epoch 10/30\n",
      "48000/48000 [==============================] - 12s 256us/step - loss: 0.1256 - acc: 0.9630 - val_loss: 0.1165 - val_acc: 0.9675\n",
      "Epoch 11/30\n",
      "48000/48000 [==============================] - 13s 261us/step - loss: 0.1172 - acc: 0.9654 - val_loss: 0.1088 - val_acc: 0.9702\n",
      "Epoch 12/30\n",
      "48000/48000 [==============================] - 13s 261us/step - loss: 0.1102 - acc: 0.9678 - val_loss: 0.1044 - val_acc: 0.9711\n",
      "Epoch 13/30\n",
      "48000/48000 [==============================] - 13s 262us/step - loss: 0.1042 - acc: 0.9694 - val_loss: 0.1000 - val_acc: 0.9715\n",
      "Epoch 14/30\n",
      "48000/48000 [==============================] - 12s 257us/step - loss: 0.0991 - acc: 0.9709 - val_loss: 0.0957 - val_acc: 0.9727\n",
      "Epoch 15/30\n",
      "48000/48000 [==============================] - 13s 265us/step - loss: 0.0945 - acc: 0.9723 - val_loss: 0.0915 - val_acc: 0.9745\n",
      "Epoch 16/30\n",
      "48000/48000 [==============================] - 13s 262us/step - loss: 0.0906 - acc: 0.9733 - val_loss: 0.0889 - val_acc: 0.9752\n",
      "Epoch 17/30\n",
      "48000/48000 [==============================] - 13s 263us/step - loss: 0.0872 - acc: 0.9740 - val_loss: 0.0869 - val_acc: 0.9750\n",
      "Epoch 18/30\n",
      "48000/48000 [==============================] - 12s 258us/step - loss: 0.0838 - acc: 0.9751 - val_loss: 0.0840 - val_acc: 0.9758\n",
      "Epoch 19/30\n",
      "48000/48000 [==============================] - 13s 267us/step - loss: 0.0808 - acc: 0.9761 - val_loss: 0.0851 - val_acc: 0.9755\n",
      "Epoch 20/30\n",
      "48000/48000 [==============================] - 13s 273us/step - loss: 0.0782 - acc: 0.9773 - val_loss: 0.0792 - val_acc: 0.9769\n",
      "Epoch 21/30\n",
      "48000/48000 [==============================] - 13s 261us/step - loss: 0.0759 - acc: 0.9776 - val_loss: 0.0776 - val_acc: 0.9778\n",
      "Epoch 22/30\n",
      "48000/48000 [==============================] - 13s 264us/step - loss: 0.0736 - acc: 0.9783 - val_loss: 0.0750 - val_acc: 0.9777\n",
      "Epoch 23/30\n",
      "48000/48000 [==============================] - 13s 263us/step - loss: 0.0714 - acc: 0.9786 - val_loss: 0.0746 - val_acc: 0.9790\n",
      "Epoch 24/30\n",
      "48000/48000 [==============================] - 13s 265us/step - loss: 0.0694 - acc: 0.9794 - val_loss: 0.0725 - val_acc: 0.9787\n",
      "Epoch 25/30\n",
      "48000/48000 [==============================] - 13s 265us/step - loss: 0.0676 - acc: 0.9799 - val_loss: 0.0708 - val_acc: 0.9799\n",
      "Epoch 26/30\n",
      "48000/48000 [==============================] - 12s 259us/step - loss: 0.0659 - acc: 0.9808 - val_loss: 0.0697 - val_acc: 0.9795\n",
      "Epoch 27/30\n",
      "48000/48000 [==============================] - 13s 263us/step - loss: 0.0643 - acc: 0.9811 - val_loss: 0.0688 - val_acc: 0.9808\n",
      "Epoch 28/30\n",
      "48000/48000 [==============================] - 13s 264us/step - loss: 0.0628 - acc: 0.9816 - val_loss: 0.0679 - val_acc: 0.9802\n",
      "Epoch 29/30\n",
      "48000/48000 [==============================] - 13s 261us/step - loss: 0.0614 - acc: 0.9821 - val_loss: 0.0662 - val_acc: 0.9804\n",
      "Epoch 30/30\n",
      "48000/48000 [==============================] - 13s 261us/step - loss: 0.0598 - acc: 0.9823 - val_loss: 0.0654 - val_acc: 0.9816\n",
      "10000/10000 [==============================] - 1s 138us/step\n",
      "Test accuracy: 0.9825\n",
      "Time elapsed: 377.74504719208926\n"
     ]
    },
    {
     "data": {
      "image/png": "[encoded data removed]",
      "text/plain": [
       "<Figure size 432x288 with 1 Axes>"
      ]
     },
     "metadata": {
      "needs_background": "light"
     },
     "output_type": "display_data"
    }
   ],
   "source": [
    "#do the same, but with tanh:\n",
    "from timeit import default_timer as timer\n",
    "\n",
    "conv_model = Sequential()\n",
    "conv_model.add(Conv2D(8, (3,3), padding='same', input_shape=(28,28,1)))\n",
    "conv_model.add(Activation('tanh'))\n",
    "conv_model.add(MaxPooling2D(pool_size=(2, 2)))\n",
    "conv_model.add(Conv2D(16, (3,3), padding='same'))\n",
    "conv_model.add(Activation('tanh'))\n",
    "conv_model.add(MaxPooling2D(pool_size=(2, 2)))\n",
    "conv_model.add(Conv2D(32, (3,3), padding='same'))\n",
    "conv_model.add(Activation('tanh'))\n",
    "conv_model.add(Flatten())\n",
    "conv_model.add(Dense(10))\n",
    "conv_model.add(Activation('softmax'))\n",
    "\n",
    "#train it\n",
    "epoh=30\n",
    "minibatch = 64\n",
    "\n",
    "#change lr, minibatch size, num epochs. for good convergence. get to 98+\n",
    "sgd = optimizers.SGD(lr=0.01)\n",
    "adam = optimizers.Adam(lr=0.001, beta_1=0.9, beta_2=0.999)\n",
    "\n",
    "conv_model.compile(optimizer=sgd,\n",
    "              loss='sparse_categorical_crossentropy',\n",
    "              metrics=['accuracy'])\n",
    "\n",
    "start = timer()\n",
    "hist1 = conv_model.fit(x_train_2d, y_train, epochs=epoh, batch_size=minibatch, validation_split=0.2)\n",
    "end = timer()\n",
    "\n",
    "test_loss, test_acc = conv_model.evaluate(x_test_2d, y_test)\n",
    "\n",
    "\n",
    "print('Test accuracy:', test_acc)\n",
    "print('Time elapsed:', end-start)\n",
    "plot_history(hist1.history)\n",
    "\n",
    "#------------------\n",
    "\n",
    "conv_model = Sequential()\n",
    "conv_model.add(Conv2D(8, (3,3), padding='same', input_shape=(28,28,1)))\n",
    "conv_model.add(MaxPooling2D(pool_size=(2, 2)))\n",
    "conv_model.add(Activation('tanh'))\n",
    "conv_model.add(Conv2D(16, (3,3), padding='same'))\n",
    "conv_model.add(MaxPooling2D(pool_size=(2, 2)))\n",
    "conv_model.add(Activation('tanh'))\n",
    "conv_model.add(Conv2D(32, (3,3), padding='same'))\n",
    "conv_model.add(Activation('tanh'))\n",
    "conv_model.add(Flatten())\n",
    "conv_model.add(Dense(10))\n",
    "conv_model.add(Activation('softmax'))\n",
    "\n",
    "#train it\n",
    "conv_model.compile(optimizer=sgd,\n",
    "              loss='sparse_categorical_crossentropy',\n",
    "              metrics=['accuracy'])\n",
    "start = timer()\n",
    "hist2 = conv_model.fit(x_train_2d, y_train, epochs=epoh, batch_size=minibatch, validation_split=0.2)\n",
    "end = timer()\n",
    "\n",
    "test_loss, test_acc = conv_model.evaluate(x_test_2d, y_test)\n",
    "\n",
    "print('Test accuracy:', test_acc)\n",
    "print('Time elapsed:', end-start)\n",
    "plot_history(hist2.history)"
   ]
  },
  {
   "cell_type": "markdown",
   "metadata": {},
   "source": [
    "##### What  would  change  (accuracy,  speed)  if  you  swap  the  order  of  these  twooperations?  Test  your  hypothesis  empirically  by  exchanging  layers  2  and  3,  resp.  layers  5  and  6,  suchthat the pooling operation is performed before the ReLU. The difference is probably more distinct for thehyperbolic tangent activation function, why?\n",
    "\n",
    "With relu, not much difference is seen in speed and accuracy. (also in theory, there should be no difference - relu leaves everything except negative values as they are, and max pool will always give positive values unless the pooling area only contains negative values. But in that case, the relu before or after will make the final result 0. \n",
    "And for tanh: also not much difference experimentally, slightly slower otherwise perhaps. (What would theory say? Should there be difference in results?? <- probably not. I think there should never be a difference, as long as the activ.functions are monotonous, increasing.)\n",
    "\n",
    "Either way, considerng just the number of times a nonlinearity need to be applied, it is more efficient to apply it after pooling, as then you need to apply it to less data."
   ]
  },
  {
   "cell_type": "markdown",
   "metadata": {},
   "source": [
    "        1.4. Exchanging SGD with Adam"
   ]
  },
  {
   "cell_type": "code",
   "execution_count": 93,
   "metadata": {},
   "outputs": [
    {
     "name": "stdout",
     "output_type": "stream",
     "text": [
      "Train on 48000 samples, validate on 12000 samples\n",
      "Epoch 1/30\n",
      "48000/48000 [==============================] - 14s 297us/step - loss: 0.2678 - acc: 0.9195 - val_loss: 0.0945 - val_acc: 0.9711\n",
      "Epoch 2/30\n",
      "48000/48000 [==============================] - 14s 282us/step - loss: 0.0745 - acc: 0.9775 - val_loss: 0.0578 - val_acc: 0.9828\n",
      "Epoch 3/30\n",
      "48000/48000 [==============================] - 14s 282us/step - loss: 0.0515 - acc: 0.9837 - val_loss: 0.0565 - val_acc: 0.9828\n",
      "Epoch 4/30\n",
      "48000/48000 [==============================] - 13s 275us/step - loss: 0.0412 - acc: 0.9868 - val_loss: 0.0512 - val_acc: 0.9843\n",
      "Epoch 5/30\n",
      "48000/48000 [==============================] - 13s 275us/step - loss: 0.0350 - acc: 0.9889 - val_loss: 0.0417 - val_acc: 0.9868\n",
      "Epoch 6/30\n",
      "48000/48000 [==============================] - 13s 278us/step - loss: 0.0289 - acc: 0.9909 - val_loss: 0.0473 - val_acc: 0.9858\n",
      "Epoch 7/30\n",
      "48000/48000 [==============================] - 14s 289us/step - loss: 0.0258 - acc: 0.9915 - val_loss: 0.0435 - val_acc: 0.9873\n",
      "Epoch 8/30\n",
      "48000/48000 [==============================] - 14s 295us/step - loss: 0.0224 - acc: 0.9924 - val_loss: 0.0450 - val_acc: 0.9882\n",
      "Epoch 9/30\n",
      "48000/48000 [==============================] - 14s 302us/step - loss: 0.0191 - acc: 0.9938 - val_loss: 0.0417 - val_acc: 0.9894\n",
      "Epoch 10/30\n",
      "48000/48000 [==============================] - 15s 303us/step - loss: 0.0182 - acc: 0.9939 - val_loss: 0.0466 - val_acc: 0.9877\n",
      "Epoch 11/30\n",
      "48000/48000 [==============================] - 13s 280us/step - loss: 0.0135 - acc: 0.9958 - val_loss: 0.0462 - val_acc: 0.9879\n",
      "Epoch 12/30\n",
      "48000/48000 [==============================] - 13s 281us/step - loss: 0.0128 - acc: 0.9960 - val_loss: 0.0469 - val_acc: 0.9880\n",
      "Epoch 13/30\n",
      "48000/48000 [==============================] - 14s 286us/step - loss: 0.0122 - acc: 0.9959 - val_loss: 0.0438 - val_acc: 0.9878\n",
      "Epoch 14/30\n",
      "48000/48000 [==============================] - 14s 286us/step - loss: 0.0097 - acc: 0.9967 - val_loss: 0.0528 - val_acc: 0.9868\n",
      "Epoch 15/30\n",
      "48000/48000 [==============================] - 14s 286us/step - loss: 0.0085 - acc: 0.9972 - val_loss: 0.0689 - val_acc: 0.9831\n",
      "Epoch 16/30\n",
      "48000/48000 [==============================] - 14s 287us/step - loss: 0.0104 - acc: 0.9966 - val_loss: 0.0477 - val_acc: 0.9890\n",
      "Epoch 17/30\n",
      "48000/48000 [==============================] - 14s 289us/step - loss: 0.0071 - acc: 0.9977 - val_loss: 0.0560 - val_acc: 0.9872\n",
      "Epoch 18/30\n",
      "48000/48000 [==============================] - 15s 314us/step - loss: 0.0062 - acc: 0.9978 - val_loss: 0.0464 - val_acc: 0.9903\n",
      "Epoch 19/30\n",
      "48000/48000 [==============================] - 13s 280us/step - loss: 0.0071 - acc: 0.9976 - val_loss: 0.0484 - val_acc: 0.9890\n",
      "Epoch 20/30\n",
      "48000/48000 [==============================] - 14s 282us/step - loss: 0.0063 - acc: 0.9978 - val_loss: 0.0621 - val_acc: 0.9853\n",
      "Epoch 21/30\n",
      "48000/48000 [==============================] - 14s 284us/step - loss: 0.0061 - acc: 0.9978 - val_loss: 0.0540 - val_acc: 0.9892\n",
      "Epoch 22/30\n",
      "48000/48000 [==============================] - 14s 286us/step - loss: 0.0048 - acc: 0.9981 - val_loss: 0.0667 - val_acc: 0.9869\n",
      "Epoch 23/30\n",
      "48000/48000 [==============================] - 14s 288us/step - loss: 0.0061 - acc: 0.9978 - val_loss: 0.0575 - val_acc: 0.9888\n",
      "Epoch 24/30\n",
      "48000/48000 [==============================] - 14s 285us/step - loss: 0.0025 - acc: 0.9992 - val_loss: 0.0655 - val_acc: 0.9875\n",
      "Epoch 25/30\n",
      "48000/48000 [==============================] - 14s 287us/step - loss: 0.0066 - acc: 0.9977 - val_loss: 0.0600 - val_acc: 0.9855\n",
      "Epoch 26/30\n",
      "48000/48000 [==============================] - 14s 286us/step - loss: 0.0040 - acc: 0.9985 - val_loss: 0.0576 - val_acc: 0.9890\n",
      "Epoch 27/30\n",
      "48000/48000 [==============================] - 14s 290us/step - loss: 0.0055 - acc: 0.9980 - val_loss: 0.0588 - val_acc: 0.9890\n",
      "Epoch 28/30\n",
      "48000/48000 [==============================] - 14s 292us/step - loss: 0.0044 - acc: 0.9986 - val_loss: 0.0606 - val_acc: 0.9886\n",
      "Epoch 29/30\n",
      "48000/48000 [==============================] - 14s 288us/step - loss: 0.0011 - acc: 0.9996 - val_loss: 0.0579 - val_acc: 0.9880\n",
      "Epoch 30/30\n",
      "48000/48000 [==============================] - 14s 292us/step - loss: 0.0040 - acc: 0.9985 - val_loss: 0.0656 - val_acc: 0.9888\n",
      "10000/10000 [==============================] - 2s 157us/step\n",
      "Test accuracy: 0.9902\n"
     ]
    },
    {
     "data": {
      "image/png": "[encoded data removed]",
      "text/plain": [
       "<Figure size 432x288 with 1 Axes>"
      ]
     },
     "metadata": {
      "needs_background": "light"
     },
     "output_type": "display_data"
    }
   ],
   "source": [
    "conv_model = Sequential()\n",
    "conv_model.add(Conv2D(8, (3,3), padding='same', input_shape=(28,28,1)))\n",
    "conv_model.add(Activation('relu'))\n",
    "conv_model.add(MaxPooling2D(pool_size=(2, 2)))\n",
    "conv_model.add(Conv2D(16, (3,3), padding='same'))\n",
    "conv_model.add(Activation('relu'))\n",
    "conv_model.add(MaxPooling2D(pool_size=(2, 2)))\n",
    "conv_model.add(Conv2D(32, (3,3), padding='same'))\n",
    "conv_model.add(Activation('relu'))\n",
    "conv_model.add(Flatten())\n",
    "conv_model.add(Dense(10))\n",
    "conv_model.add(Activation('softmax'))\n",
    "\n",
    "#train it\n",
    "epoh=30\n",
    "minibatch = 64\n",
    "\n",
    "#change lr, minibatch size, num epochs. for good convergence. get to 98+\n",
    "sgd = optimizers.SGD(lr=0.01)\n",
    "adam = optimizers.Adam(lr=0.001, beta_1=0.9, beta_2=0.999)\n",
    "\n",
    "conv_model.compile(optimizer=adam,\n",
    "              loss='sparse_categorical_crossentropy',\n",
    "              metrics=['accuracy'])\n",
    "hist = conv_model.fit(x_train_2d, y_train, epochs=epoh, batch_size=minibatch, validation_split=0.2)\n",
    "\n",
    "test_loss, test_acc = conv_model.evaluate(x_test_2d, y_test)\n",
    "\n",
    "print('Test accuracy:', test_acc)\n",
    "\n",
    "plot_history(hist.history)"
   ]
  },
  {
   "cell_type": "markdown",
   "metadata": {},
   "source": [
    "##### Do you manageto get better results faster than the plain SGD optimization?\n",
    "YES!"
   ]
  },
  {
   "cell_type": "markdown",
   "metadata": {},
   "source": [
    "\n",
    "        1.5. Variations of the network (regularization, lr decay, architecture...)"
   ]
  },
  {
   "cell_type": "code",
   "execution_count": 9,
   "metadata": {},
   "outputs": [],
   "source": [
    "#use: adam, 50+epochs, regularization via early stopping. Try out: adaptive lr decay, dropout, batch norm, \n",
    "#additional layer?...\n",
    "from keras.layers import BatchNormalization\n",
    "\n",
    "def networkStructure(activations='relu', layerList=[8, 16, 32], padding='same', denseLayers=[]):\n",
    "    \"\"\"Making the network skeleton. Same activations and padding used in all layers.\n",
    "       layerList includes numbers of feature maps in each layer respectively. If 0, do \n",
    "       batchnorm, and if bigger than 0 but <1, do dropout with that percentage. \n",
    "       Dropout cannot be the first layer (and neither does batchnorm, because we dont \n",
    "       have multiple channels?). Each convolutional layer is always followed by maxpooling\n",
    "       and then activation layers. \n",
    "       denseLayers is a list of subsequent dense layers. Only permits integers<1 for dense \n",
    "       layer size, or 0<x<1 for dropout.\"\"\"\n",
    "    \n",
    "    model = Sequential()\n",
    "    for s in layerList:\n",
    "        if s<0: #do convolution, but without pooling!\n",
    "            model.add(Conv2D(-s, (3,3), padding=padding))\n",
    "            model.add(Activation(activations))\n",
    "        elif s==0:\n",
    "            model.add(BatchNormalization())\n",
    "        elif s<1:\n",
    "            model.add(Dropout(rate=s))\n",
    "        else:\n",
    "            model.add(Conv2D(s, (3,3), padding=padding))\n",
    "            model.add(MaxPooling2D(pool_size=(2,2)))\n",
    "            model.add(Activation(activations))\n",
    "    model.add(Flatten())\n",
    "    for l in denseLayers:\n",
    "        if l<1:\n",
    "            model.add(Dropout(rate=l))\n",
    "        else:\n",
    "            model.add(Dense(l))\n",
    "            model.add(Activation(activations))\n",
    "    \n",
    "    model.add(Dense(10))\n",
    "    model.add(Activation('softmax'))\n",
    "    \n",
    "    return model\n"
   ]
  },
  {
   "cell_type": "code",
   "execution_count": 106,
   "metadata": {},
   "outputs": [],
   "source": [
    "net = networkStructure('relu', [8, 16, 0.2, -32, 0.2, -64, 0.2], 'valid')"
   ]
  },
  {
   "cell_type": "code",
   "execution_count": 107,
   "metadata": {
    "scrolled": true
   },
   "outputs": [
    {
     "name": "stdout",
     "output_type": "stream",
     "text": [
      "Train on 48000 samples, validate on 12000 samples\n",
      "Epoch 1/30\n",
      "48000/48000 [==============================] - 12s 240us/step - loss: 0.3301 - acc: 0.8961 - val_loss: 0.0744 - val_acc: 0.9770\n",
      "Epoch 2/30\n",
      "48000/48000 [==============================] - 11s 226us/step - loss: 0.1771 - acc: 0.9505 - val_loss: 0.0752 - val_acc: 0.9788\n",
      "Epoch 3/30\n",
      "48000/48000 [==============================] - 10s 205us/step - loss: 0.1608 - acc: 0.9557 - val_loss: 0.0769 - val_acc: 0.9786\n",
      "Epoch 4/30\n",
      "48000/48000 [==============================] - 10s 203us/step - loss: 0.1567 - acc: 0.9571 - val_loss: 0.0699 - val_acc: 0.9811\n",
      "Epoch 5/30\n",
      "48000/48000 [==============================] - 10s 208us/step - loss: 0.1603 - acc: 0.9567 - val_loss: 0.0640 - val_acc: 0.9806\n",
      "Epoch 6/30\n",
      "48000/48000 [==============================] - 10s 210us/step - loss: 0.1559 - acc: 0.9577 - val_loss: 0.0675 - val_acc: 0.9809\n",
      "Epoch 7/30\n",
      "48000/48000 [==============================] - 10s 210us/step - loss: 0.1458 - acc: 0.9614 - val_loss: 0.0900 - val_acc: 0.9777\n",
      "Epoch 8/30\n",
      "48000/48000 [==============================] - 10s 215us/step - loss: 0.1565 - acc: 0.9577 - val_loss: 0.0801 - val_acc: 0.9792\n",
      "Epoch 9/30\n",
      "48000/48000 [==============================] - 10s 215us/step - loss: 0.1629 - acc: 0.9564 - val_loss: 0.0757 - val_acc: 0.9794\n",
      "Epoch 10/30\n",
      "48000/48000 [==============================] - 10s 216us/step - loss: 0.1707 - acc: 0.9580 - val_loss: 0.0977 - val_acc: 0.9761\n",
      "Epoch 11/30\n",
      "48000/48000 [==============================] - 10s 216us/step - loss: 0.1685 - acc: 0.9568 - val_loss: 0.0755 - val_acc: 0.9788\n",
      "Epoch 12/30\n",
      "48000/48000 [==============================] - 11s 222us/step - loss: 0.1569 - acc: 0.9590 - val_loss: 0.0768 - val_acc: 0.9804\n",
      "Epoch 13/30\n",
      "48000/48000 [==============================] - 10s 216us/step - loss: 0.1686 - acc: 0.9564 - val_loss: 0.0834 - val_acc: 0.9787\n",
      "Epoch 14/30\n",
      "48000/48000 [==============================] - 11s 222us/step - loss: 0.1636 - acc: 0.9596 - val_loss: 0.1101 - val_acc: 0.9734\n",
      "Epoch 15/30\n",
      "48000/48000 [==============================] - 11s 232us/step - loss: 0.1732 - acc: 0.9573 - val_loss: 0.0839 - val_acc: 0.9788\n",
      "Epoch 16/30\n",
      "48000/48000 [==============================] - 11s 230us/step - loss: 0.1816 - acc: 0.9569 - val_loss: 0.0762 - val_acc: 0.9802\n",
      "Epoch 17/30\n",
      "48000/48000 [==============================] - 11s 225us/step - loss: 0.1743 - acc: 0.9575 - val_loss: 0.0727 - val_acc: 0.9826\n",
      "Epoch 18/30\n",
      "48000/48000 [==============================] - 11s 227us/step - loss: 0.1758 - acc: 0.9581 - val_loss: 0.0829 - val_acc: 0.9801\n",
      "Epoch 19/30\n",
      "48000/48000 [==============================] - 11s 238us/step - loss: 0.1848 - acc: 0.9577 - val_loss: 0.1087 - val_acc: 0.9757\n",
      "Epoch 20/30\n",
      "48000/48000 [==============================] - 11s 223us/step - loss: 0.2065 - acc: 0.9551 - val_loss: 0.0978 - val_acc: 0.9789\n",
      "Epoch 21/30\n",
      "48000/48000 [==============================] - 12s 241us/step - loss: 0.1899 - acc: 0.9540 - val_loss: 0.0934 - val_acc: 0.9758\n",
      "Epoch 22/30\n",
      "48000/48000 [==============================] - 12s 244us/step - loss: 0.2020 - acc: 0.9537 - val_loss: 0.0935 - val_acc: 0.9811\n",
      "Epoch 23/30\n",
      "48000/48000 [==============================] - 11s 223us/step - loss: 0.2081 - acc: 0.9534 - val_loss: 0.0866 - val_acc: 0.9806\n",
      "Epoch 24/30\n",
      "48000/48000 [==============================] - 11s 229us/step - loss: 0.1977 - acc: 0.9564 - val_loss: 0.0832 - val_acc: 0.9792\n",
      "Epoch 25/30\n",
      "48000/48000 [==============================] - 11s 230us/step - loss: 0.1920 - acc: 0.9560 - val_loss: 0.0860 - val_acc: 0.9823\n",
      "Epoch 26/30\n",
      "48000/48000 [==============================] - 11s 233us/step - loss: 0.2045 - acc: 0.9534 - val_loss: 0.0919 - val_acc: 0.9772\n",
      "Epoch 27/30\n",
      "48000/48000 [==============================] - 11s 227us/step - loss: 0.1931 - acc: 0.9579 - val_loss: 0.0883 - val_acc: 0.9818\n",
      "Epoch 28/30\n",
      "48000/48000 [==============================] - 11s 231us/step - loss: 0.2278 - acc: 0.9517 - val_loss: 0.1330 - val_acc: 0.9713\n",
      "Epoch 29/30\n",
      "48000/48000 [==============================] - 11s 226us/step - loss: 0.2122 - acc: 0.9543 - val_loss: 0.1372 - val_acc: 0.9737\n",
      "Epoch 30/30\n",
      "48000/48000 [==============================] - 11s 229us/step - loss: 0.2426 - acc: 0.9490 - val_loss: 0.1218 - val_acc: 0.9763\n",
      "10000/10000 [==============================] - 1s 136us/step\n",
      "Test accuracy: 0.9769\n"
     ]
    },
    {
     "data": {
      "image/png": "[encoded data removed]",
      "text/plain": [
       "<Figure size 432x288 with 1 Axes>"
      ]
     },
     "metadata": {
      "needs_background": "light"
     },
     "output_type": "display_data"
    }
   ],
   "source": [
    "adam = optimizers.Adam(lr=0.01, beta_1=0.9, beta_2=0.999)\n",
    "net.compile(optimizer=adam,\n",
    "              loss='sparse_categorical_crossentropy',\n",
    "              metrics=['accuracy'])\n",
    "hist = net.fit(x_train_2d, y_train, epochs=epoh, batch_size=minibatch, validation_split=0.2)\n",
    "test_loss, test_acc = net.evaluate(x_test_2d, y_test)\n",
    "print('Test accuracy:', test_acc)\n",
    "plot_history(hist.history)\n"
   ]
  },
  {
   "cell_type": "code",
   "execution_count": 108,
   "metadata": {},
   "outputs": [
    {
     "name": "stdout",
     "output_type": "stream",
     "text": [
      "Train on 48000 samples, validate on 12000 samples\n",
      "Epoch 1/30\n",
      "48000/48000 [==============================] - 12s 242us/step - loss: 0.1697 - acc: 0.9646 - val_loss: 0.0907 - val_acc: 0.9842\n",
      "Epoch 2/30\n",
      "48000/48000 [==============================] - 10s 211us/step - loss: 0.1422 - acc: 0.9686 - val_loss: 0.0812 - val_acc: 0.9829\n",
      "Epoch 3/30\n",
      "48000/48000 [==============================] - 10s 209us/step - loss: 0.1339 - acc: 0.9696 - val_loss: 0.0703 - val_acc: 0.9837\n",
      "Epoch 4/30\n",
      "48000/48000 [==============================] - 10s 207us/step - loss: 0.1139 - acc: 0.9725 - val_loss: 0.0729 - val_acc: 0.9837\n",
      "Epoch 5/30\n",
      "48000/48000 [==============================] - 10s 210us/step - loss: 0.1123 - acc: 0.9733 - val_loss: 0.0658 - val_acc: 0.9858\n",
      "Epoch 6/30\n",
      "48000/48000 [==============================] - 10s 211us/step - loss: 0.1025 - acc: 0.9751 - val_loss: 0.0639 - val_acc: 0.9854\n",
      "Epoch 7/30\n",
      "48000/48000 [==============================] - 10s 207us/step - loss: 0.1041 - acc: 0.9743 - val_loss: 0.0640 - val_acc: 0.9859\n",
      "Epoch 8/30\n",
      "48000/48000 [==============================] - 10s 212us/step - loss: 0.0968 - acc: 0.9759 - val_loss: 0.0627 - val_acc: 0.9854\n",
      "Epoch 9/30\n",
      "48000/48000 [==============================] - 10s 211us/step - loss: 0.0924 - acc: 0.9767 - val_loss: 0.0640 - val_acc: 0.9862\n",
      "Epoch 10/30\n",
      "48000/48000 [==============================] - 10s 208us/step - loss: 0.0953 - acc: 0.9762 - val_loss: 0.0639 - val_acc: 0.9856\n",
      "Epoch 11/30\n",
      "48000/48000 [==============================] - 10s 214us/step - loss: 0.0868 - acc: 0.9777 - val_loss: 0.0608 - val_acc: 0.9864\n",
      "Epoch 12/30\n",
      "48000/48000 [==============================] - 11s 220us/step - loss: 0.0911 - acc: 0.9776 - val_loss: 0.0579 - val_acc: 0.9878\n",
      "Epoch 13/30\n",
      "48000/48000 [==============================] - 11s 232us/step - loss: 0.0826 - acc: 0.9789 - val_loss: 0.0592 - val_acc: 0.9871\n",
      "Epoch 14/30\n",
      "48000/48000 [==============================] - 11s 227us/step - loss: 0.0795 - acc: 0.9799 - val_loss: 0.0563 - val_acc: 0.9882\n",
      "Epoch 15/30\n",
      "48000/48000 [==============================] - 11s 230us/step - loss: 0.0786 - acc: 0.9798 - val_loss: 0.0562 - val_acc: 0.9872\n",
      "Epoch 16/30\n",
      "48000/48000 [==============================] - 11s 225us/step - loss: 0.0779 - acc: 0.9798 - val_loss: 0.0564 - val_acc: 0.9864\n",
      "Epoch 17/30\n",
      "48000/48000 [==============================] - 11s 229us/step - loss: 0.0798 - acc: 0.9798 - val_loss: 0.0563 - val_acc: 0.9869\n",
      "Epoch 18/30\n",
      "48000/48000 [==============================] - 11s 229us/step - loss: 0.0762 - acc: 0.9795 - val_loss: 0.0551 - val_acc: 0.9875\n",
      "Epoch 19/30\n",
      "48000/48000 [==============================] - 11s 230us/step - loss: 0.0769 - acc: 0.9808 - val_loss: 0.0539 - val_acc: 0.9875\n",
      "Epoch 20/30\n",
      "48000/48000 [==============================] - 11s 232us/step - loss: 0.0755 - acc: 0.9801 - val_loss: 0.0530 - val_acc: 0.9876\n",
      "Epoch 21/30\n",
      "48000/48000 [==============================] - 11s 229us/step - loss: 0.0706 - acc: 0.9816 - val_loss: 0.0528 - val_acc: 0.9886\n",
      "Epoch 22/30\n",
      "48000/48000 [==============================] - 11s 228us/step - loss: 0.0735 - acc: 0.9813 - val_loss: 0.0533 - val_acc: 0.9882\n",
      "Epoch 23/30\n",
      "48000/48000 [==============================] - 12s 242us/step - loss: 0.0707 - acc: 0.9821 - val_loss: 0.0560 - val_acc: 0.9868\n",
      "Epoch 24/30\n",
      "48000/48000 [==============================] - 12s 249us/step - loss: 0.0681 - acc: 0.9823 - val_loss: 0.0555 - val_acc: 0.9870\n",
      "Epoch 25/30\n",
      "48000/48000 [==============================] - 10s 213us/step - loss: 0.0698 - acc: 0.9820 - val_loss: 0.0521 - val_acc: 0.9882\n",
      "Epoch 26/30\n",
      "48000/48000 [==============================] - 10s 213us/step - loss: 0.0657 - acc: 0.9833 - val_loss: 0.0504 - val_acc: 0.9889\n",
      "Epoch 27/30\n",
      "48000/48000 [==============================] - 10s 216us/step - loss: 0.0692 - acc: 0.9820 - val_loss: 0.0521 - val_acc: 0.9895\n",
      "Epoch 28/30\n",
      "48000/48000 [==============================] - 10s 210us/step - loss: 0.0641 - acc: 0.9832 - val_loss: 0.0551 - val_acc: 0.9873\n",
      "Epoch 29/30\n",
      "48000/48000 [==============================] - 10s 205us/step - loss: 0.0655 - acc: 0.9832 - val_loss: 0.0552 - val_acc: 0.9877\n",
      "Epoch 30/30\n",
      "48000/48000 [==============================] - 10s 211us/step - loss: 0.0681 - acc: 0.9831 - val_loss: 0.0526 - val_acc: 0.9867\n",
      "10000/10000 [==============================] - 1s 118us/step\n",
      "Test accuracy: 0.9894\n"
     ]
    },
    {
     "data": {
      "image/png": "[encoded data removed]",
      "text/plain": [
       "<Figure size 432x288 with 1 Axes>"
      ]
     },
     "metadata": {
      "needs_background": "light"
     },
     "output_type": "display_data"
    }
   ],
   "source": [
    "adam = optimizers.Adam(lr=0.001, beta_1=0.9, beta_2=0.999)\n",
    "net.compile(optimizer=adam,\n",
    "              loss='sparse_categorical_crossentropy',\n",
    "              metrics=['accuracy'])\n",
    "hist = net.fit(x_train_2d, y_train, epochs=epoh, batch_size=minibatch, validation_split=0.2)\n",
    "test_loss, test_acc = net.evaluate(x_test_2d, y_test)\n",
    "print('Test accuracy:', test_acc)\n",
    "plot_history(hist.history)"
   ]
  },
  {
   "cell_type": "code",
   "execution_count": 109,
   "metadata": {
    "scrolled": true
   },
   "outputs": [
    {
     "name": "stdout",
     "output_type": "stream",
     "text": [
      "_________________________________________________________________\n",
      "Layer (type)                 Output Shape              Param #   \n",
      "=================================================================\n",
      "conv2d_144 (Conv2D)          (None, 26, 26, 8)         80        \n",
      "_________________________________________________________________\n",
      "max_pooling2d_99 (MaxPooling (None, 13, 13, 8)         0         \n",
      "_________________________________________________________________\n",
      "activation_202 (Activation)  (None, 13, 13, 8)         0         \n",
      "_________________________________________________________________\n",
      "conv2d_145 (Conv2D)          (None, 11, 11, 16)        1168      \n",
      "_________________________________________________________________\n",
      "max_pooling2d_100 (MaxPoolin (None, 5, 5, 16)          0         \n",
      "_________________________________________________________________\n",
      "activation_203 (Activation)  (None, 5, 5, 16)          0         \n",
      "_________________________________________________________________\n",
      "dropout_8 (Dropout)          (None, 5, 5, 16)          0         \n",
      "_________________________________________________________________\n",
      "conv2d_146 (Conv2D)          (None, 3, 3, 32)          4640      \n",
      "_________________________________________________________________\n",
      "activation_204 (Activation)  (None, 3, 3, 32)          0         \n",
      "_________________________________________________________________\n",
      "dropout_9 (Dropout)          (None, 3, 3, 32)          0         \n",
      "_________________________________________________________________\n",
      "conv2d_147 (Conv2D)          (None, 1, 1, 64)          18496     \n",
      "_________________________________________________________________\n",
      "activation_205 (Activation)  (None, 1, 1, 64)          0         \n",
      "_________________________________________________________________\n",
      "dropout_10 (Dropout)         (None, 1, 1, 64)          0         \n",
      "_________________________________________________________________\n",
      "flatten_22 (Flatten)         (None, 64)                0         \n",
      "_________________________________________________________________\n",
      "dense_61 (Dense)             (None, 10)                650       \n",
      "_________________________________________________________________\n",
      "activation_206 (Activation)  (None, 10)                0         \n",
      "=================================================================\n",
      "Total params: 25,034\n",
      "Trainable params: 25,034\n",
      "Non-trainable params: 0\n",
      "_________________________________________________________________\n"
     ]
    }
   ],
   "source": [
    "net.summary()"
   ]
  },
  {
   "cell_type": "code",
   "execution_count": 110,
   "metadata": {
    "scrolled": true
   },
   "outputs": [
    {
     "name": "stdout",
     "output_type": "stream",
     "text": [
      "Train on 48000 samples, validate on 12000 samples\n",
      "Epoch 1/30\n",
      "48000/48000 [==============================] - 20s 406us/step - loss: 0.2526 - acc: 0.9215 - val_loss: 0.0709 - val_acc: 0.9800\n",
      "Epoch 2/30\n",
      "48000/48000 [==============================] - 18s 373us/step - loss: 0.0808 - acc: 0.9755 - val_loss: 0.0551 - val_acc: 0.9840\n",
      "Epoch 3/30\n",
      "48000/48000 [==============================] - 19s 393us/step - loss: 0.0595 - acc: 0.9809 - val_loss: 0.0461 - val_acc: 0.9867\n",
      "Epoch 4/30\n",
      "48000/48000 [==============================] - 18s 385us/step - loss: 0.0471 - acc: 0.9851 - val_loss: 0.0431 - val_acc: 0.9865\n",
      "Epoch 5/30\n",
      "48000/48000 [==============================] - 19s 394us/step - loss: 0.0395 - acc: 0.9877 - val_loss: 0.0373 - val_acc: 0.9893\n",
      "Epoch 6/30\n",
      "48000/48000 [==============================] - 19s 387us/step - loss: 0.0375 - acc: 0.9884 - val_loss: 0.0389 - val_acc: 0.9882\n",
      "Epoch 7/30\n",
      "48000/48000 [==============================] - 19s 404us/step - loss: 0.0320 - acc: 0.9897 - val_loss: 0.0444 - val_acc: 0.9872\n",
      "Epoch 8/30\n",
      "48000/48000 [==============================] - 19s 396us/step - loss: 0.0287 - acc: 0.9912 - val_loss: 0.0332 - val_acc: 0.9912\n",
      "Epoch 9/30\n",
      "48000/48000 [==============================] - 20s 421us/step - loss: 0.0266 - acc: 0.9909 - val_loss: 0.0294 - val_acc: 0.9916\n",
      "Epoch 10/30\n",
      "48000/48000 [==============================] - 18s 384us/step - loss: 0.0246 - acc: 0.9919 - val_loss: 0.0308 - val_acc: 0.9908\n",
      "Epoch 11/30\n",
      "48000/48000 [==============================] - 18s 383us/step - loss: 0.0226 - acc: 0.9925 - val_loss: 0.0279 - val_acc: 0.9914\n",
      "Epoch 12/30\n",
      "48000/48000 [==============================] - 18s 381us/step - loss: 0.0194 - acc: 0.9930 - val_loss: 0.0289 - val_acc: 0.9918\n",
      "Epoch 13/30\n",
      "48000/48000 [==============================] - 19s 386us/step - loss: 0.0198 - acc: 0.9933 - val_loss: 0.0296 - val_acc: 0.9906\n",
      "Epoch 14/30\n",
      "48000/48000 [==============================] - 18s 382us/step - loss: 0.0180 - acc: 0.9937 - val_loss: 0.0281 - val_acc: 0.9921\n",
      "Epoch 15/30\n",
      "48000/48000 [==============================] - 18s 384us/step - loss: 0.0172 - acc: 0.9941 - val_loss: 0.0292 - val_acc: 0.9912\n",
      "Epoch 16/30\n",
      "48000/48000 [==============================] - 19s 391us/step - loss: 0.0150 - acc: 0.9949 - val_loss: 0.0319 - val_acc: 0.9914\n",
      "Epoch 17/30\n",
      "48000/48000 [==============================] - 18s 384us/step - loss: 0.0162 - acc: 0.9942 - val_loss: 0.0309 - val_acc: 0.9918\n",
      "Epoch 18/30\n",
      "48000/48000 [==============================] - 19s 391us/step - loss: 0.0143 - acc: 0.9953 - val_loss: 0.0314 - val_acc: 0.9922\n",
      "Epoch 19/30\n",
      "48000/48000 [==============================] - 18s 384us/step - loss: 0.0133 - acc: 0.9955 - val_loss: 0.0297 - val_acc: 0.9926\n",
      "Epoch 20/30\n",
      "48000/48000 [==============================] - 19s 385us/step - loss: 0.0136 - acc: 0.9954 - val_loss: 0.0290 - val_acc: 0.9918\n",
      "Epoch 21/30\n",
      "48000/48000 [==============================] - 19s 386us/step - loss: 0.0118 - acc: 0.9962 - val_loss: 0.0300 - val_acc: 0.9915\n",
      "Epoch 22/30\n",
      "48000/48000 [==============================] - 19s 387us/step - loss: 0.0121 - acc: 0.9960 - val_loss: 0.0328 - val_acc: 0.9912\n",
      "Epoch 23/30\n",
      "48000/48000 [==============================] - 19s 386us/step - loss: 0.0118 - acc: 0.9960 - val_loss: 0.0333 - val_acc: 0.9910\n",
      "Epoch 24/30\n",
      "48000/48000 [==============================] - 19s 388us/step - loss: 0.0110 - acc: 0.9963 - val_loss: 0.0308 - val_acc: 0.9915\n",
      "Epoch 25/30\n",
      "48000/48000 [==============================] - 18s 384us/step - loss: 0.0108 - acc: 0.9963 - val_loss: 0.0343 - val_acc: 0.9921\n",
      "Epoch 26/30\n",
      "48000/48000 [==============================] - 19s 406us/step - loss: 0.0106 - acc: 0.9964 - val_loss: 0.0325 - val_acc: 0.9928\n",
      "Epoch 27/30\n",
      "48000/48000 [==============================] - 19s 391us/step - loss: 0.0100 - acc: 0.9969 - val_loss: 0.0371 - val_acc: 0.9922\n",
      "Epoch 28/30\n",
      "48000/48000 [==============================] - 18s 385us/step - loss: 0.0098 - acc: 0.9968 - val_loss: 0.0340 - val_acc: 0.9922\n",
      "Epoch 29/30\n",
      "48000/48000 [==============================] - 19s 390us/step - loss: 0.0098 - acc: 0.9965 - val_loss: 0.0362 - val_acc: 0.9912\n",
      "Epoch 30/30\n",
      "48000/48000 [==============================] - 18s 379us/step - loss: 0.0109 - acc: 0.9963 - val_loss: 0.0342 - val_acc: 0.9918\n",
      "10000/10000 [==============================] - 2s 168us/step\n",
      "Test accuracy: 0.9928\n"
     ]
    },
    {
     "data": {
      "image/png": "[encoded data removed]",
      "text/plain": [
       "<Figure size 432x288 with 1 Axes>"
      ]
     },
     "metadata": {
      "needs_background": "light"
     },
     "output_type": "display_data"
    }
   ],
   "source": [
    "net = networkStructure('relu', [8, -16, 0.2, -32, 0.2, -64, 0.2], 'valid')\n",
    "\n",
    "adam = optimizers.Adam(lr=0.001, beta_1=0.9, beta_2=0.999)\n",
    "net.compile(optimizer=adam,\n",
    "              loss='sparse_categorical_crossentropy',\n",
    "              metrics=['accuracy'])\n",
    "hist = net.fit(x_train_2d, y_train, epochs=epoh, batch_size=minibatch, validation_split=0.2)\n",
    "test_loss, test_acc = net.evaluate(x_test_2d, y_test)\n",
    "print('Test accuracy:', test_acc)\n",
    "plot_history(hist.history)"
   ]
  },
  {
   "cell_type": "code",
   "execution_count": 111,
   "metadata": {},
   "outputs": [
    {
     "name": "stdout",
     "output_type": "stream",
     "text": [
      "_________________________________________________________________\n",
      "Layer (type)                 Output Shape              Param #   \n",
      "=================================================================\n",
      "conv2d_148 (Conv2D)          (None, 26, 26, 8)         80        \n",
      "_________________________________________________________________\n",
      "max_pooling2d_101 (MaxPoolin (None, 13, 13, 8)         0         \n",
      "_________________________________________________________________\n",
      "activation_207 (Activation)  (None, 13, 13, 8)         0         \n",
      "_________________________________________________________________\n",
      "conv2d_149 (Conv2D)          (None, 11, 11, 16)        1168      \n",
      "_________________________________________________________________\n",
      "activation_208 (Activation)  (None, 11, 11, 16)        0         \n",
      "_________________________________________________________________\n",
      "dropout_11 (Dropout)         (None, 11, 11, 16)        0         \n",
      "_________________________________________________________________\n",
      "conv2d_150 (Conv2D)          (None, 9, 9, 32)          4640      \n",
      "_________________________________________________________________\n",
      "activation_209 (Activation)  (None, 9, 9, 32)          0         \n",
      "_________________________________________________________________\n",
      "dropout_12 (Dropout)         (None, 9, 9, 32)          0         \n",
      "_________________________________________________________________\n",
      "conv2d_151 (Conv2D)          (None, 7, 7, 64)          18496     \n",
      "_________________________________________________________________\n",
      "activation_210 (Activation)  (None, 7, 7, 64)          0         \n",
      "_________________________________________________________________\n",
      "dropout_13 (Dropout)         (None, 7, 7, 64)          0         \n",
      "_________________________________________________________________\n",
      "flatten_23 (Flatten)         (None, 3136)              0         \n",
      "_________________________________________________________________\n",
      "dense_62 (Dense)             (None, 10)                31370     \n",
      "_________________________________________________________________\n",
      "activation_211 (Activation)  (None, 10)                0         \n",
      "=================================================================\n",
      "Total params: 55,754\n",
      "Trainable params: 55,754\n",
      "Non-trainable params: 0\n",
      "_________________________________________________________________\n"
     ]
    }
   ],
   "source": [
    "net.summary()"
   ]
  },
  {
   "cell_type": "code",
   "execution_count": 112,
   "metadata": {},
   "outputs": [
    {
     "name": "stdout",
     "output_type": "stream",
     "text": [
      "Train on 48000 samples, validate on 12000 samples\n",
      "Epoch 1/30\n",
      "48000/48000 [==============================] - 19s 389us/step - loss: 0.2576 - acc: 0.9185 - val_loss: 0.0836 - val_acc: 0.9762\n",
      "Epoch 2/30\n",
      "48000/48000 [==============================] - 18s 368us/step - loss: 0.0792 - acc: 0.9756 - val_loss: 0.0639 - val_acc: 0.9802\n",
      "Epoch 3/30\n",
      "48000/48000 [==============================] - 18s 369us/step - loss: 0.0554 - acc: 0.9828 - val_loss: 0.0523 - val_acc: 0.9850\n",
      "Epoch 4/30\n",
      "48000/48000 [==============================] - 20s 420us/step - loss: 0.0464 - acc: 0.9858 - val_loss: 0.0475 - val_acc: 0.9864\n",
      "Epoch 5/30\n",
      "48000/48000 [==============================] - 17s 352us/step - loss: 0.0392 - acc: 0.9870 - val_loss: 0.0379 - val_acc: 0.9878\n",
      "Epoch 6/30\n",
      "48000/48000 [==============================] - 16s 344us/step - loss: 0.0323 - acc: 0.9899 - val_loss: 0.0373 - val_acc: 0.9892\n",
      "Epoch 7/30\n",
      "48000/48000 [==============================] - 17s 354us/step - loss: 0.0272 - acc: 0.9909 - val_loss: 0.0401 - val_acc: 0.9887\n",
      "Epoch 8/30\n",
      "48000/48000 [==============================] - 17s 344us/step - loss: 0.0253 - acc: 0.9918 - val_loss: 0.0358 - val_acc: 0.9900\n",
      "Epoch 9/30\n",
      "48000/48000 [==============================] - 18s 368us/step - loss: 0.0226 - acc: 0.9922 - val_loss: 0.0345 - val_acc: 0.9897\n",
      "Epoch 10/30\n",
      "48000/48000 [==============================] - 18s 377us/step - loss: 0.0184 - acc: 0.9940 - val_loss: 0.0393 - val_acc: 0.9882\n",
      "Epoch 11/30\n",
      "48000/48000 [==============================] - 17s 364us/step - loss: 0.0169 - acc: 0.9945 - val_loss: 0.0355 - val_acc: 0.9902\n",
      "Epoch 12/30\n",
      "48000/48000 [==============================] - 17s 360us/step - loss: 0.0158 - acc: 0.9946 - val_loss: 0.0349 - val_acc: 0.9901\n",
      "Epoch 13/30\n",
      "48000/48000 [==============================] - 18s 372us/step - loss: 0.0147 - acc: 0.9949 - val_loss: 0.0399 - val_acc: 0.9893\n",
      "Epoch 14/30\n",
      "48000/48000 [==============================] - 17s 346us/step - loss: 0.0136 - acc: 0.9951 - val_loss: 0.0400 - val_acc: 0.9898\n",
      "Epoch 15/30\n",
      "48000/48000 [==============================] - 17s 347us/step - loss: 0.0107 - acc: 0.9960 - val_loss: 0.0368 - val_acc: 0.9913\n",
      "Epoch 16/30\n",
      "48000/48000 [==============================] - 17s 344us/step - loss: 0.0108 - acc: 0.9963 - val_loss: 0.0395 - val_acc: 0.9907\n",
      "Epoch 17/30\n",
      "48000/48000 [==============================] - 17s 364us/step - loss: 0.0105 - acc: 0.9964 - val_loss: 0.0381 - val_acc: 0.9908\n",
      "Epoch 18/30\n",
      "48000/48000 [==============================] - 19s 387us/step - loss: 0.0110 - acc: 0.9963 - val_loss: 0.0383 - val_acc: 0.9898\n",
      "Epoch 19/30\n",
      "48000/48000 [==============================] - 20s 410us/step - loss: 0.0091 - acc: 0.9967 - val_loss: 0.0403 - val_acc: 0.9908\n",
      "Epoch 20/30\n",
      "48000/48000 [==============================] - 18s 385us/step - loss: 0.0076 - acc: 0.9974 - val_loss: 0.0459 - val_acc: 0.9904\n",
      "Epoch 21/30\n",
      "48000/48000 [==============================] - 18s 380us/step - loss: 0.0084 - acc: 0.9968 - val_loss: 0.0436 - val_acc: 0.9914\n",
      "Epoch 22/30\n",
      "48000/48000 [==============================] - 18s 380us/step - loss: 0.0069 - acc: 0.9977 - val_loss: 0.0392 - val_acc: 0.9913\n",
      "Epoch 23/30\n",
      "48000/48000 [==============================] - 19s 389us/step - loss: 0.0087 - acc: 0.9970 - val_loss: 0.0400 - val_acc: 0.9912\n",
      "Epoch 24/30\n",
      "48000/48000 [==============================] - 19s 404us/step - loss: 0.0059 - acc: 0.9980 - val_loss: 0.0388 - val_acc: 0.9911\n",
      "Epoch 25/30\n",
      "48000/48000 [==============================] - 19s 387us/step - loss: 0.0063 - acc: 0.9979 - val_loss: 0.0419 - val_acc: 0.9905\n",
      "Epoch 26/30\n",
      "48000/48000 [==============================] - 19s 392us/step - loss: 0.0078 - acc: 0.9972 - val_loss: 0.0457 - val_acc: 0.9902\n",
      "Epoch 27/30\n",
      "48000/48000 [==============================] - 19s 393us/step - loss: 0.0069 - acc: 0.9977 - val_loss: 0.0409 - val_acc: 0.9918\n",
      "Epoch 28/30\n",
      "48000/48000 [==============================] - 19s 388us/step - loss: 0.0047 - acc: 0.9982 - val_loss: 0.0445 - val_acc: 0.9914\n",
      "Epoch 29/30\n",
      "48000/48000 [==============================] - 19s 390us/step - loss: 0.0068 - acc: 0.9980 - val_loss: 0.0414 - val_acc: 0.9913\n",
      "Epoch 30/30\n",
      "48000/48000 [==============================] - 19s 392us/step - loss: 0.0052 - acc: 0.9982 - val_loss: 0.0483 - val_acc: 0.9906\n",
      "10000/10000 [==============================] - 2s 170us/step\n",
      "Test accuracy: 0.9908\n"
     ]
    },
    {
     "data": {
      "image/png": "[encoded data removed]",
      "text/plain": [
       "<Figure size 432x288 with 1 Axes>"
      ]
     },
     "metadata": {
      "needs_background": "light"
     },
     "output_type": "display_data"
    }
   ],
   "source": [
    "net = networkStructure('relu', [8, -16, 0.2, -32, 0.2, -64], 'valid')\n",
    "\n",
    "adam = optimizers.Adam(lr=0.001, beta_1=0.9, beta_2=0.999)\n",
    "net.compile(optimizer=adam,\n",
    "              loss='sparse_categorical_crossentropy',\n",
    "              metrics=['accuracy'])\n",
    "hist = net.fit(x_train_2d, y_train, epochs=epoh, batch_size=minibatch, validation_split=0.2)\n",
    "test_loss, test_acc = net.evaluate(x_test_2d, y_test)\n",
    "print('Test accuracy:', test_acc)\n",
    "plot_history(hist.history)"
   ]
  },
  {
   "cell_type": "code",
   "execution_count": 113,
   "metadata": {},
   "outputs": [
    {
     "name": "stdout",
     "output_type": "stream",
     "text": [
      "Train on 48000 samples, validate on 12000 samples\n",
      "Epoch 1/30\n",
      "48000/48000 [==============================] - 74s 2ms/step - loss: 0.1703 - acc: 0.9484 - val_loss: 0.0780 - val_acc: 0.9762\n",
      "Epoch 2/30\n",
      "48000/48000 [==============================] - 75s 2ms/step - loss: 0.0575 - acc: 0.9825 - val_loss: 0.0454 - val_acc: 0.9866\n",
      "Epoch 3/30\n",
      "48000/48000 [==============================] - 73s 2ms/step - loss: 0.0420 - acc: 0.9871 - val_loss: 0.0500 - val_acc: 0.9851\n",
      "Epoch 4/30\n",
      "48000/48000 [==============================] - 74s 2ms/step - loss: 0.0312 - acc: 0.9902 - val_loss: 0.0411 - val_acc: 0.9886\n",
      "Epoch 5/30\n",
      "48000/48000 [==============================] - 72s 2ms/step - loss: 0.0257 - acc: 0.9917 - val_loss: 0.0420 - val_acc: 0.9887\n",
      "Epoch 6/30\n",
      "48000/48000 [==============================] - 76s 2ms/step - loss: 0.0195 - acc: 0.9936 - val_loss: 0.0386 - val_acc: 0.9882\n",
      "Epoch 7/30\n",
      "48000/48000 [==============================] - 72s 2ms/step - loss: 0.0170 - acc: 0.9945 - val_loss: 0.0419 - val_acc: 0.9882\n",
      "Epoch 8/30\n",
      "48000/48000 [==============================] - 75s 2ms/step - loss: 0.0140 - acc: 0.9954 - val_loss: 0.0587 - val_acc: 0.9854\n",
      "Epoch 9/30\n",
      "48000/48000 [==============================] - 77s 2ms/step - loss: 0.0119 - acc: 0.9959 - val_loss: 0.0429 - val_acc: 0.9883\n",
      "Epoch 10/30\n",
      "48000/48000 [==============================] - 73s 2ms/step - loss: 0.0103 - acc: 0.9965 - val_loss: 0.0528 - val_acc: 0.9872\n",
      "Epoch 11/30\n",
      "48000/48000 [==============================] - 71s 1ms/step - loss: 0.0106 - acc: 0.9965 - val_loss: 0.0439 - val_acc: 0.9895\n",
      "Epoch 12/30\n",
      "48000/48000 [==============================] - 70s 1ms/step - loss: 0.0081 - acc: 0.9973 - val_loss: 0.0698 - val_acc: 0.9866\n",
      "Epoch 13/30\n",
      "48000/48000 [==============================] - 69s 1ms/step - loss: 0.0063 - acc: 0.9979 - val_loss: 0.0564 - val_acc: 0.9887\n",
      "Epoch 14/30\n",
      "48000/48000 [==============================] - 71s 1ms/step - loss: 0.0063 - acc: 0.9979 - val_loss: 0.0667 - val_acc: 0.9872\n",
      "Epoch 15/30\n",
      "48000/48000 [==============================] - 72s 2ms/step - loss: 0.0074 - acc: 0.9974 - val_loss: 0.0634 - val_acc: 0.9877\n",
      "Epoch 16/30\n",
      "48000/48000 [==============================] - 75s 2ms/step - loss: 0.0055 - acc: 0.9980 - val_loss: 0.0538 - val_acc: 0.9891\n",
      "Epoch 17/30\n",
      "48000/48000 [==============================] - 73s 2ms/step - loss: 0.0047 - acc: 0.9983 - val_loss: 0.0573 - val_acc: 0.9899\n",
      "Epoch 18/30\n",
      "48000/48000 [==============================] - 75s 2ms/step - loss: 0.0056 - acc: 0.9980 - val_loss: 0.0639 - val_acc: 0.9894\n",
      "Epoch 19/30\n",
      "48000/48000 [==============================] - 71s 1ms/step - loss: 0.0050 - acc: 0.9983 - val_loss: 0.0621 - val_acc: 0.9892\n",
      "Epoch 20/30\n",
      "48000/48000 [==============================] - 70s 1ms/step - loss: 0.0050 - acc: 0.9981 - val_loss: 0.0664 - val_acc: 0.9892\n",
      "Epoch 21/30\n",
      "48000/48000 [==============================] - 69s 1ms/step - loss: 0.0036 - acc: 0.9987 - val_loss: 0.0686 - val_acc: 0.9887\n",
      "Epoch 22/30\n",
      "48000/48000 [==============================] - 68s 1ms/step - loss: 0.0060 - acc: 0.9981 - val_loss: 0.0652 - val_acc: 0.9902\n",
      "Epoch 23/30\n",
      "48000/48000 [==============================] - 68s 1ms/step - loss: 0.0012 - acc: 0.9996 - val_loss: 0.0818 - val_acc: 0.9864\n",
      "Epoch 24/30\n",
      "48000/48000 [==============================] - 68s 1ms/step - loss: 0.0043 - acc: 0.9985 - val_loss: 0.0764 - val_acc: 0.9890\n",
      "Epoch 25/30\n",
      "48000/48000 [==============================] - 69s 1ms/step - loss: 0.0029 - acc: 0.9989 - val_loss: 0.0713 - val_acc: 0.9895\n",
      "Epoch 26/30\n",
      "48000/48000 [==============================] - 68s 1ms/step - loss: 0.0033 - acc: 0.9990 - val_loss: 0.0829 - val_acc: 0.9881\n",
      "Epoch 27/30\n",
      "48000/48000 [==============================] - 68s 1ms/step - loss: 0.0033 - acc: 0.9988 - val_loss: 0.0690 - val_acc: 0.9901\n",
      "Epoch 28/30\n",
      "48000/48000 [==============================] - 68s 1ms/step - loss: 0.0027 - acc: 0.9992 - val_loss: 0.0774 - val_acc: 0.9893\n",
      "Epoch 29/30\n",
      "48000/48000 [==============================] - 68s 1ms/step - loss: 0.0045 - acc: 0.9985 - val_loss: 0.0785 - val_acc: 0.9878\n",
      "Epoch 30/30\n",
      "48000/48000 [==============================] - 68s 1ms/step - loss: 0.0028 - acc: 0.9991 - val_loss: 0.0680 - val_acc: 0.9906\n",
      "10000/10000 [==============================] - 4s 354us/step\n",
      "Test accuracy: 0.9911\n"
     ]
    },
    {
     "data": {
      "image/png": "[encoded data removed]",
      "text/plain": [
       "<Figure size 432x288 with 1 Axes>"
      ]
     },
     "metadata": {
      "needs_background": "light"
     },
     "output_type": "display_data"
    }
   ],
   "source": [
    "net = networkStructure('relu', [-8, -16, 0.2, -32, 0.2, -64], 'valid', [])\n",
    "\n",
    "adam = optimizers.Adam(lr=0.001, beta_1=0.9, beta_2=0.999)\n",
    "net.compile(optimizer=adam,\n",
    "              loss='sparse_categorical_crossentropy',\n",
    "              metrics=['accuracy'])\n",
    "hist = net.fit(x_train_2d, y_train, epochs=epoh, batch_size=minibatch, validation_split=0.2)\n",
    "test_loss, test_acc = net.evaluate(x_test_2d, y_test)\n",
    "print('Test accuracy:', test_acc)\n",
    "plot_history(hist.history)"
   ]
  },
  {
   "cell_type": "code",
   "execution_count": 114,
   "metadata": {},
   "outputs": [
    {
     "name": "stdout",
     "output_type": "stream",
     "text": [
      "Train on 48000 samples, validate on 12000 samples\n",
      "Epoch 1/30\n",
      "48000/48000 [==============================] - 16s 342us/step - loss: 0.2118 - acc: 0.9352 - val_loss: 0.0831 - val_acc: 0.9744\n",
      "Epoch 2/30\n",
      "48000/48000 [==============================] - 15s 306us/step - loss: 0.0634 - acc: 0.9806 - val_loss: 0.0593 - val_acc: 0.9813\n",
      "Epoch 3/30\n",
      "48000/48000 [==============================] - 15s 307us/step - loss: 0.0446 - acc: 0.9862 - val_loss: 0.0575 - val_acc: 0.9815\n",
      "Epoch 4/30\n",
      "48000/48000 [==============================] - 16s 342us/step - loss: 0.0332 - acc: 0.9892 - val_loss: 0.0545 - val_acc: 0.9858\n",
      "Epoch 5/30\n",
      "48000/48000 [==============================] - 16s 340us/step - loss: 0.0275 - acc: 0.9912 - val_loss: 0.0420 - val_acc: 0.9878\n",
      "Epoch 6/30\n",
      "48000/48000 [==============================] - 16s 340us/step - loss: 0.0216 - acc: 0.9933 - val_loss: 0.0428 - val_acc: 0.9873\n",
      "Epoch 7/30\n",
      "48000/48000 [==============================] - 16s 336us/step - loss: 0.0179 - acc: 0.9942 - val_loss: 0.0540 - val_acc: 0.9846\n",
      "Epoch 8/30\n",
      "48000/48000 [==============================] - 16s 336us/step - loss: 0.0154 - acc: 0.9949 - val_loss: 0.0543 - val_acc: 0.9851\n",
      "Epoch 9/30\n",
      "48000/48000 [==============================] - 16s 339us/step - loss: 0.0120 - acc: 0.9958 - val_loss: 0.0461 - val_acc: 0.9891\n",
      "Epoch 10/30\n",
      "48000/48000 [==============================] - 17s 344us/step - loss: 0.0098 - acc: 0.9968 - val_loss: 0.0486 - val_acc: 0.9877\n",
      "Epoch 11/30\n",
      "48000/48000 [==============================] - 17s 347us/step - loss: 0.0091 - acc: 0.9968 - val_loss: 0.0645 - val_acc: 0.9863\n",
      "Epoch 12/30\n",
      "48000/48000 [==============================] - 16s 334us/step - loss: 0.0076 - acc: 0.9975 - val_loss: 0.0570 - val_acc: 0.9887\n",
      "Epoch 13/30\n",
      "48000/48000 [==============================] - 16s 339us/step - loss: 0.0078 - acc: 0.9970 - val_loss: 0.0657 - val_acc: 0.9845\n",
      "Epoch 14/30\n",
      "48000/48000 [==============================] - 16s 339us/step - loss: 0.0065 - acc: 0.9978 - val_loss: 0.0634 - val_acc: 0.9855\n",
      "Epoch 15/30\n",
      "48000/48000 [==============================] - 16s 342us/step - loss: 0.0063 - acc: 0.9976 - val_loss: 0.0515 - val_acc: 0.9884\n",
      "Epoch 16/30\n",
      "48000/48000 [==============================] - 17s 346us/step - loss: 0.0049 - acc: 0.9985 - val_loss: 0.0581 - val_acc: 0.9868\n",
      "Epoch 17/30\n",
      "48000/48000 [==============================] - 16s 340us/step - loss: 0.0067 - acc: 0.9977 - val_loss: 0.0563 - val_acc: 0.9880\n",
      "Epoch 18/30\n",
      "48000/48000 [==============================] - 17s 346us/step - loss: 0.0035 - acc: 0.9989 - val_loss: 0.0601 - val_acc: 0.9890\n",
      "Epoch 19/30\n",
      "48000/48000 [==============================] - 17s 349us/step - loss: 0.0052 - acc: 0.9980 - val_loss: 0.0634 - val_acc: 0.9873\n",
      "Epoch 20/30\n",
      "48000/48000 [==============================] - 17s 360us/step - loss: 0.0039 - acc: 0.9985 - val_loss: 0.0610 - val_acc: 0.9895\n",
      "Epoch 21/30\n",
      "48000/48000 [==============================] - 17s 347us/step - loss: 0.0041 - acc: 0.9987 - val_loss: 0.0715 - val_acc: 0.9865\n",
      "Epoch 22/30\n",
      "48000/48000 [==============================] - 17s 345us/step - loss: 0.0043 - acc: 0.9985 - val_loss: 0.0591 - val_acc: 0.9900\n",
      "Epoch 23/30\n",
      "48000/48000 [==============================] - 17s 350us/step - loss: 0.0041 - acc: 0.9986 - val_loss: 0.0685 - val_acc: 0.9884\n",
      "Epoch 24/30\n",
      "48000/48000 [==============================] - 17s 351us/step - loss: 0.0041 - acc: 0.9986 - val_loss: 0.0634 - val_acc: 0.9892\n",
      "Epoch 25/30\n",
      "48000/48000 [==============================] - 17s 350us/step - loss: 0.0033 - acc: 0.9990 - val_loss: 0.0645 - val_acc: 0.9892\n",
      "Epoch 26/30\n",
      "48000/48000 [==============================] - 17s 353us/step - loss: 0.0033 - acc: 0.9990 - val_loss: 0.0670 - val_acc: 0.9891\n",
      "Epoch 27/30\n",
      "48000/48000 [==============================] - 17s 352us/step - loss: 0.0040 - acc: 0.9986 - val_loss: 0.0748 - val_acc: 0.9877\n",
      "Epoch 28/30\n",
      "48000/48000 [==============================] - 17s 353us/step - loss: 0.0029 - acc: 0.9991 - val_loss: 0.0775 - val_acc: 0.9878\n",
      "Epoch 29/30\n",
      "48000/48000 [==============================] - 18s 369us/step - loss: 0.0021 - acc: 0.9995 - val_loss: 0.0671 - val_acc: 0.9892\n",
      "Epoch 30/30\n",
      "48000/48000 [==============================] - 16s 342us/step - loss: 0.0027 - acc: 0.9991 - val_loss: 0.0742 - val_acc: 0.9881\n",
      "10000/10000 [==============================] - 2s 164us/step\n",
      "Test accuracy: 0.9893\n"
     ]
    },
    {
     "data": {
      "image/png": "[encoded data removed]",
      "text/plain": [
       "<Figure size 432x288 with 1 Axes>"
      ]
     },
     "metadata": {
      "needs_background": "light"
     },
     "output_type": "display_data"
    }
   ],
   "source": [
    "net = networkStructure('relu', [8, -16, -32, -64], 'valid')\n",
    "\n",
    "adam = optimizers.Adam(lr=0.001, beta_1=0.9, beta_2=0.999)\n",
    "net.compile(optimizer=adam,\n",
    "              loss='sparse_categorical_crossentropy',\n",
    "              metrics=['accuracy'])\n",
    "hist = net.fit(x_train_2d, y_train, epochs=epoh, batch_size=minibatch, validation_split=0.2)\n",
    "test_loss, test_acc = net.evaluate(x_test_2d, y_test)\n",
    "print('Test accuracy:', test_acc)\n",
    "plot_history(hist.history)"
   ]
  },
  {
   "cell_type": "code",
   "execution_count": 116,
   "metadata": {},
   "outputs": [
    {
     "name": "stdout",
     "output_type": "stream",
     "text": [
      "Train on 48000 samples, validate on 12000 samples\n",
      "Epoch 1/30\n",
      "48000/48000 [==============================] - 80s 2ms/step - loss: 0.1704 - acc: 0.9495 - val_loss: 0.0637 - val_acc: 0.9834\n",
      "Epoch 2/30\n",
      "48000/48000 [==============================] - 78s 2ms/step - loss: 0.0677 - acc: 0.9802 - val_loss: 0.0469 - val_acc: 0.9862\n",
      "Epoch 3/30\n",
      "48000/48000 [==============================] - 78s 2ms/step - loss: 0.0519 - acc: 0.9855 - val_loss: 0.0642 - val_acc: 0.9830\n",
      "Epoch 4/30\n",
      "48000/48000 [==============================] - 78s 2ms/step - loss: 0.0415 - acc: 0.9873 - val_loss: 0.0367 - val_acc: 0.9898\n",
      "Epoch 5/30\n",
      "48000/48000 [==============================] - 78s 2ms/step - loss: 0.0386 - acc: 0.9891 - val_loss: 0.0322 - val_acc: 0.9907\n",
      "Epoch 6/30\n",
      "48000/48000 [==============================] - 78s 2ms/step - loss: 0.0354 - acc: 0.9895 - val_loss: 0.0420 - val_acc: 0.9899\n",
      "Epoch 7/30\n",
      "48000/48000 [==============================] - 78s 2ms/step - loss: 0.0343 - acc: 0.9901 - val_loss: 0.0329 - val_acc: 0.9889\n",
      "Epoch 8/30\n",
      "48000/48000 [==============================] - 78s 2ms/step - loss: 0.0297 - acc: 0.9910 - val_loss: 0.0414 - val_acc: 0.9885\n",
      "Epoch 9/30\n",
      "48000/48000 [==============================] - 78s 2ms/step - loss: 0.0250 - acc: 0.9925 - val_loss: 0.0391 - val_acc: 0.9904\n",
      "Epoch 10/30\n",
      "48000/48000 [==============================] - 78s 2ms/step - loss: 0.0243 - acc: 0.9928 - val_loss: 0.0423 - val_acc: 0.9893\n",
      "Epoch 11/30\n",
      "48000/48000 [==============================] - 78s 2ms/step - loss: 0.0226 - acc: 0.9932 - val_loss: 0.0297 - val_acc: 0.9923\n",
      "Epoch 12/30\n",
      "48000/48000 [==============================] - 78s 2ms/step - loss: 0.0211 - acc: 0.9934 - val_loss: 0.0320 - val_acc: 0.9920\n",
      "Epoch 13/30\n",
      "48000/48000 [==============================] - 78s 2ms/step - loss: 0.0195 - acc: 0.9938 - val_loss: 0.0424 - val_acc: 0.9902\n",
      "Epoch 14/30\n",
      "48000/48000 [==============================] - 79s 2ms/step - loss: 0.0196 - acc: 0.9935 - val_loss: 0.0349 - val_acc: 0.9922\n",
      "Epoch 15/30\n",
      "48000/48000 [==============================] - 78s 2ms/step - loss: 0.0160 - acc: 0.9955 - val_loss: 0.0404 - val_acc: 0.9925\n",
      "Epoch 16/30\n",
      "48000/48000 [==============================] - 78s 2ms/step - loss: 0.0150 - acc: 0.9953 - val_loss: 0.0440 - val_acc: 0.9904\n",
      "Epoch 17/30\n",
      "48000/48000 [==============================] - 78s 2ms/step - loss: 0.0153 - acc: 0.9952 - val_loss: 0.0446 - val_acc: 0.9902\n",
      "Epoch 18/30\n",
      "48000/48000 [==============================] - 79s 2ms/step - loss: 0.0131 - acc: 0.9960 - val_loss: 0.0342 - val_acc: 0.9918\n",
      "Epoch 19/30\n",
      "48000/48000 [==============================] - 79s 2ms/step - loss: 0.0140 - acc: 0.9955 - val_loss: 0.0359 - val_acc: 0.9933\n",
      "Epoch 20/30\n",
      "48000/48000 [==============================] - 79s 2ms/step - loss: 0.0138 - acc: 0.9958 - val_loss: 0.0377 - val_acc: 0.9926\n",
      "Epoch 21/30\n",
      "48000/48000 [==============================] - 81s 2ms/step - loss: 0.0127 - acc: 0.9962 - val_loss: 0.0361 - val_acc: 0.9929\n",
      "Epoch 22/30\n",
      "48000/48000 [==============================] - 85s 2ms/step - loss: 0.0121 - acc: 0.9964 - val_loss: 0.0331 - val_acc: 0.9938\n",
      "Epoch 23/30\n",
      "48000/48000 [==============================] - 79s 2ms/step - loss: 0.0124 - acc: 0.9965 - val_loss: 0.0460 - val_acc: 0.9913\n",
      "Epoch 24/30\n",
      "48000/48000 [==============================] - 79s 2ms/step - loss: 0.0142 - acc: 0.9960 - val_loss: 0.0460 - val_acc: 0.9932\n",
      "Epoch 25/30\n",
      "48000/48000 [==============================] - 79s 2ms/step - loss: 0.0102 - acc: 0.9973 - val_loss: 0.0404 - val_acc: 0.9931\n",
      "Epoch 26/30\n",
      "48000/48000 [==============================] - 83s 2ms/step - loss: 0.0089 - acc: 0.9973 - val_loss: 0.0481 - val_acc: 0.9922\n",
      "Epoch 27/30\n",
      "48000/48000 [==============================] - 89s 2ms/step - loss: 0.0107 - acc: 0.9968 - val_loss: 0.0370 - val_acc: 0.9929\n",
      "Epoch 28/30\n",
      "48000/48000 [==============================] - 91s 2ms/step - loss: 0.0116 - acc: 0.9969 - val_loss: 0.0359 - val_acc: 0.9937\n",
      "Epoch 29/30\n",
      "48000/48000 [==============================] - 84s 2ms/step - loss: 0.0107 - acc: 0.9967 - val_loss: 0.0340 - val_acc: 0.9939\n",
      "Epoch 30/30\n",
      "48000/48000 [==============================] - 87s 2ms/step - loss: 0.0092 - acc: 0.9975 - val_loss: 0.0411 - val_acc: 0.9917\n",
      "10000/10000 [==============================] - 5s 483us/step\n",
      "Test accuracy: 0.9932\n"
     ]
    },
    {
     "data": {
      "image/png": "[encoded data removed]",
      "text/plain": [
       "<Figure size 432x288 with 1 Axes>"
      ]
     },
     "metadata": {
      "needs_background": "light"
     },
     "output_type": "display_data"
    }
   ],
   "source": [
    "net = networkStructure('relu', [-16, -16, 0, -32, 32, 0, -64, -64, 0], 'valid', [0.3, 120, 0.3])\n",
    "\n",
    "adam = optimizers.Adam(lr=0.001, beta_1=0.9, beta_2=0.999)\n",
    "net.compile(optimizer=adam,\n",
    "              loss='sparse_categorical_crossentropy',\n",
    "              metrics=['accuracy'])\n",
    "hist = net.fit(x_train_2d, y_train, epochs=epoh, batch_size=minibatch, validation_split=0.2)\n",
    "test_loss, test_acc = net.evaluate(x_test_2d, y_test)\n",
    "print('Test accuracy:', test_acc)\n",
    "plot_history(hist.history)"
   ]
  },
  {
   "cell_type": "code",
   "execution_count": 124,
   "metadata": {},
   "outputs": [
    {
     "name": "stdout",
     "output_type": "stream",
     "text": [
      "Epoch 1/30\n",
      "60000/60000 [==============================] - 91s 2ms/step - loss: 0.1876 - acc: 0.9454\n",
      "Epoch 2/30\n",
      "60000/60000 [==============================] - 91s 2ms/step - loss: 0.0743 - acc: 0.9780\n",
      "Epoch 3/30\n",
      "60000/60000 [==============================] - 94s 2ms/step - loss: 0.0600 - acc: 0.9829\n",
      "Epoch 4/30\n",
      "60000/60000 [==============================] - 94s 2ms/step - loss: 0.0515 - acc: 0.9856\n",
      "Epoch 5/30\n",
      "60000/60000 [==============================] - 91s 2ms/step - loss: 0.0456 - acc: 0.9875\n",
      "Epoch 6/30\n",
      "60000/60000 [==============================] - 93s 2ms/step - loss: 0.0414 - acc: 0.9883\n",
      "Epoch 7/30\n",
      "60000/60000 [==============================] - 96s 2ms/step - loss: 0.0363 - acc: 0.9894\n",
      "Epoch 8/30\n",
      "60000/60000 [==============================] - 90s 2ms/step - loss: 0.0360 - acc: 0.9898\n",
      "Epoch 9/30\n",
      "60000/60000 [==============================] - 93s 2ms/step - loss: 0.0318 - acc: 0.9907\n",
      "Epoch 10/30\n",
      "60000/60000 [==============================] - 92s 2ms/step - loss: 0.0288 - acc: 0.9918\n",
      "Epoch 11/30\n",
      "60000/60000 [==============================] - 92s 2ms/step - loss: 0.0272 - acc: 0.9920\n",
      "Epoch 12/30\n",
      "60000/60000 [==============================] - 100s 2ms/step - loss: 0.0264 - acc: 0.9922\n",
      "Epoch 13/30\n",
      "60000/60000 [==============================] - 93s 2ms/step - loss: 0.0259 - acc: 0.9927\n",
      "Epoch 14/30\n",
      "60000/60000 [==============================] - 105s 2ms/step - loss: 0.0238 - acc: 0.9932\n",
      "Epoch 15/30\n",
      "60000/60000 [==============================] - 96s 2ms/step - loss: 0.0210 - acc: 0.9935\n",
      "Epoch 16/30\n",
      "60000/60000 [==============================] - 94s 2ms/step - loss: 0.0215 - acc: 0.9938\n",
      "Epoch 17/30\n",
      "60000/60000 [==============================] - 98s 2ms/step - loss: 0.0212 - acc: 0.9934\n",
      "Epoch 18/30\n",
      "60000/60000 [==============================] - 91s 2ms/step - loss: 0.0186 - acc: 0.9947\n",
      "Epoch 19/30\n",
      "60000/60000 [==============================] - 90s 2ms/step - loss: 0.0175 - acc: 0.9949\n",
      "Epoch 20/30\n",
      "60000/60000 [==============================] - 90s 2ms/step - loss: 0.0183 - acc: 0.9947\n",
      "Epoch 21/30\n",
      "60000/60000 [==============================] - 90s 2ms/step - loss: 0.0147 - acc: 0.9957\n",
      "Epoch 22/30\n",
      "60000/60000 [==============================] - 88s 1ms/step - loss: 0.0182 - acc: 0.9949\n",
      "Epoch 23/30\n",
      "60000/60000 [==============================] - 89s 1ms/step - loss: 0.0146 - acc: 0.9957\n",
      "Epoch 24/30\n",
      "60000/60000 [==============================] - 88s 1ms/step - loss: 0.0126 - acc: 0.9961\n",
      "Epoch 25/30\n",
      "60000/60000 [==============================] - 88s 1ms/step - loss: 0.0150 - acc: 0.9956\n",
      "Epoch 26/30\n",
      "60000/60000 [==============================] - 88s 1ms/step - loss: 0.0146 - acc: 0.9959\n",
      "Epoch 27/30\n",
      "60000/60000 [==============================] - 88s 1ms/step - loss: 0.0141 - acc: 0.9959\n",
      "Epoch 28/30\n",
      "60000/60000 [==============================] - 88s 1ms/step - loss: 0.0131 - acc: 0.9961\n",
      "Epoch 29/30\n",
      "60000/60000 [==============================] - 88s 1ms/step - loss: 0.0127 - acc: 0.9962\n",
      "Epoch 30/30\n",
      "60000/60000 [==============================] - 88s 1ms/step - loss: 0.0122 - acc: 0.9965\n",
      "10000/10000 [==============================] - 5s 515us/step\n",
      "Test accuracy: 0.9934\n"
     ]
    },
    {
     "data": {
      "image/png": "[encoded data removed]",
      "text/plain": [
       "<Figure size 432x288 with 1 Axes>"
      ]
     },
     "metadata": {
      "needs_background": "light"
     },
     "output_type": "display_data"
    }
   ],
   "source": [
    "#best performing model seems to be this last one. Spo let's train it on the whole dataset now, and then evaluate\n",
    "net = networkStructure('relu', [-16, -16, 0, -32, 32, 0, -64, -64, 0], 'valid', [0.4, 120, 0.4])\n",
    "\n",
    "adam = optimizers.Adam(lr=0.001, beta_1=0.9, beta_2=0.999)\n",
    "net.compile(optimizer=adam,\n",
    "              loss='sparse_categorical_crossentropy',\n",
    "              metrics=['accuracy'])\n",
    "hist = net.fit(x_train_2d, y_train, epochs=epoh, batch_size=minibatch)\n",
    "test_loss, test_acc = net.evaluate(x_test_2d, y_test)\n",
    "print('Test accuracy:', test_acc)\n",
    "plot_history(hist.history)"
   ]
  },
  {
   "cell_type": "code",
   "execution_count": 126,
   "metadata": {},
   "outputs": [
    {
     "name": "stdout",
     "output_type": "stream",
     "text": [
      "Epoch 1/30\n",
      "60000/60000 [==============================] - 100s 2ms/step - loss: 0.1328 - acc: 0.9602\n",
      "Epoch 2/30\n",
      "60000/60000 [==============================] - 100s 2ms/step - loss: 0.0590 - acc: 0.9829\n",
      "Epoch 3/30\n",
      "60000/60000 [==============================] - 101s 2ms/step - loss: 0.0401 - acc: 0.9880\n",
      "Epoch 4/30\n",
      "60000/60000 [==============================] - 102s 2ms/step - loss: 0.0353 - acc: 0.9894\n",
      "Epoch 5/30\n",
      "60000/60000 [==============================] - 101s 2ms/step - loss: 0.0307 - acc: 0.9906\n",
      "Epoch 6/30\n",
      "60000/60000 [==============================] - 103s 2ms/step - loss: 0.0286 - acc: 0.9918\n",
      "Epoch 7/30\n",
      "60000/60000 [==============================] - 103s 2ms/step - loss: 0.0236 - acc: 0.9930\n",
      "Epoch 8/30\n",
      "60000/60000 [==============================] - 103s 2ms/step - loss: 0.0218 - acc: 0.9932\n",
      "Epoch 9/30\n",
      "60000/60000 [==============================] - 102s 2ms/step - loss: 0.0216 - acc: 0.9940\n",
      "Epoch 10/30\n",
      "60000/60000 [==============================] - 106s 2ms/step - loss: 0.0193 - acc: 0.9943\n",
      "Epoch 11/30\n",
      "60000/60000 [==============================] - 108s 2ms/step - loss: 0.0175 - acc: 0.9944\n",
      "Epoch 12/30\n",
      "60000/60000 [==============================] - 112s 2ms/step - loss: 0.0164 - acc: 0.9952\n",
      "Epoch 13/30\n",
      "60000/60000 [==============================] - 112s 2ms/step - loss: 0.0130 - acc: 0.9963\n",
      "Epoch 14/30\n",
      "60000/60000 [==============================] - 109s 2ms/step - loss: 0.0138 - acc: 0.9959\n",
      "Epoch 15/30\n",
      "60000/60000 [==============================] - 117s 2ms/step - loss: 0.0135 - acc: 0.9962\n",
      "Epoch 16/30\n",
      "60000/60000 [==============================] - 103s 2ms/step - loss: 0.0132 - acc: 0.9959\n",
      "Epoch 17/30\n",
      "60000/60000 [==============================] - 105s 2ms/step - loss: 0.0131 - acc: 0.9961\n",
      "Epoch 18/30\n",
      "60000/60000 [==============================] - 111s 2ms/step - loss: 0.0107 - acc: 0.9968\n",
      "Epoch 19/30\n",
      "60000/60000 [==============================] - 115s 2ms/step - loss: 0.0120 - acc: 0.9965\n",
      "Epoch 20/30\n",
      "60000/60000 [==============================] - 112s 2ms/step - loss: 0.0093 - acc: 0.9973\n",
      "Epoch 21/30\n",
      "60000/60000 [==============================] - 111s 2ms/step - loss: 0.0110 - acc: 0.9971\n",
      "Epoch 22/30\n",
      "60000/60000 [==============================] - 110s 2ms/step - loss: 0.0088 - acc: 0.9974\n",
      "Epoch 23/30\n",
      "60000/60000 [==============================] - 111s 2ms/step - loss: 0.0096 - acc: 0.9972\n",
      "Epoch 24/30\n",
      "60000/60000 [==============================] - 103s 2ms/step - loss: 0.0094 - acc: 0.9971\n",
      "Epoch 25/30\n",
      "60000/60000 [==============================] - 102s 2ms/step - loss: 0.0081 - acc: 0.9975\n",
      "Epoch 26/30\n",
      "60000/60000 [==============================] - 102s 2ms/step - loss: 0.0079 - acc: 0.9978\n",
      "Epoch 27/30\n",
      "60000/60000 [==============================] - 102s 2ms/step - loss: 0.0079 - acc: 0.9977\n",
      "Epoch 28/30\n",
      "60000/60000 [==============================] - 102s 2ms/step - loss: 0.0077 - acc: 0.9979\n",
      "Epoch 29/30\n",
      "60000/60000 [==============================] - 102s 2ms/step - loss: 0.0082 - acc: 0.9976\n",
      "Epoch 30/30\n",
      "60000/60000 [==============================] - 102s 2ms/step - loss: 0.0069 - acc: 0.9980\n",
      "10000/10000 [==============================] - 6s 612us/step\n",
      "Test accuracy: 0.9939\n"
     ]
    },
    {
     "data": {
      "image/png": "[encoded data removed]",
      "text/plain": [
       "<Figure size 432x288 with 1 Axes>"
      ]
     },
     "metadata": {
      "needs_background": "light"
     },
     "output_type": "display_data"
    }
   ],
   "source": [
    "#best performing model seems to be this last one. Spo let's train it on the whole dataset now, and then evaluate\n",
    "net = networkStructure('relu', [-16, -16, 0, 32, 32, 0, -64, -64, 0], 'same', [0.3, 120, 0.2])\n",
    "\n",
    "adam = optimizers.Adam(lr=0.001, beta_1=0.9, beta_2=0.999)\n",
    "net.compile(optimizer=adam,\n",
    "              loss='sparse_categorical_crossentropy',\n",
    "              metrics=['accuracy'])\n",
    "hist = net.fit(x_train_2d, y_train, epochs=epoh, batch_size=minibatch)\n",
    "test_loss, test_acc = net.evaluate(x_test_2d, y_test)\n",
    "print('Test accuracy:', test_acc)\n",
    "plot_history(hist.history)"
   ]
  },
  {
   "cell_type": "code",
   "execution_count": 12,
   "metadata": {
    "scrolled": true
   },
   "outputs": [
    {
     "name": "stderr",
     "output_type": "stream",
     "text": [
      "W0809 16:28:51.847625 140643708168000 deprecation_wrapper.py:119] From /home/eva/.local/lib/python3.6/site-packages/keras/backend/tensorflow_backend.py:1834: The name tf.nn.fused_batch_norm is deprecated. Please use tf.compat.v1.nn.fused_batch_norm instead.\n",
      "\n",
      "W0809 16:28:51.916833 140643708168000 deprecation_wrapper.py:119] From /home/eva/.local/lib/python3.6/site-packages/keras/backend/tensorflow_backend.py:3976: The name tf.nn.max_pool is deprecated. Please use tf.nn.max_pool2d instead.\n",
      "\n",
      "W0809 16:28:52.081482 140643708168000 deprecation.py:506] From /home/eva/.local/lib/python3.6/site-packages/keras/backend/tensorflow_backend.py:3445: calling dropout (from tensorflow.python.ops.nn_ops) with keep_prob is deprecated and will be removed in a future version.\n",
      "Instructions for updating:\n",
      "Please use `rate` instead of `keep_prob`. Rate should be set to `rate = 1 - keep_prob`.\n"
     ]
    },
    {
     "name": "stdout",
     "output_type": "stream",
     "text": [
      "Epoch 1/30\n",
      "60000/60000 [==============================] - 92s 2ms/step - loss: 0.1508 - acc: 0.9546\n",
      "Epoch 2/30\n",
      "60000/60000 [==============================] - 95s 2ms/step - loss: 0.0550 - acc: 0.9836\n",
      "Epoch 3/30\n",
      "60000/60000 [==============================] - 97s 2ms/step - loss: 0.0394 - acc: 0.9883\n",
      "Epoch 4/30\n",
      "60000/60000 [==============================] - 96s 2ms/step - loss: 0.0333 - acc: 0.9897\n",
      "Epoch 5/30\n",
      "60000/60000 [==============================] - 96s 2ms/step - loss: 0.0276 - acc: 0.9910\n",
      "Epoch 6/30\n",
      "60000/60000 [==============================] - 98s 2ms/step - loss: 0.0227 - acc: 0.9928\n",
      "Epoch 7/30\n",
      "60000/60000 [==============================] - 95s 2ms/step - loss: 0.0213 - acc: 0.9930\n",
      "Epoch 8/30\n",
      "60000/60000 [==============================] - 96s 2ms/step - loss: 0.0205 - acc: 0.9934\n",
      "Epoch 9/30\n",
      "60000/60000 [==============================] - 95s 2ms/step - loss: 0.0175 - acc: 0.9944\n",
      "Epoch 10/30\n",
      "60000/60000 [==============================] - 95s 2ms/step - loss: 0.0173 - acc: 0.9946\n",
      "Epoch 11/30\n",
      "60000/60000 [==============================] - 95s 2ms/step - loss: 0.0140 - acc: 0.9956\n",
      "Epoch 12/30\n",
      "60000/60000 [==============================] - 96s 2ms/step - loss: 0.0143 - acc: 0.9956\n",
      "Epoch 13/30\n",
      "60000/60000 [==============================] - 96s 2ms/step - loss: 0.0173 - acc: 0.9949\n",
      "Epoch 14/30\n",
      "60000/60000 [==============================] - 96s 2ms/step - loss: 0.0128 - acc: 0.9961\n",
      "Epoch 15/30\n",
      "60000/60000 [==============================] - 96s 2ms/step - loss: 0.0115 - acc: 0.9961\n",
      "Epoch 16/30\n",
      "60000/60000 [==============================] - 96s 2ms/step - loss: 0.0113 - acc: 0.9965\n",
      "Epoch 17/30\n",
      "60000/60000 [==============================] - 96s 2ms/step - loss: 0.0123 - acc: 0.9960: 4s - loss\n",
      "Epoch 18/30\n",
      "60000/60000 [==============================] - 96s 2ms/step - loss: 0.0104 - acc: 0.9967\n",
      "Epoch 19/30\n",
      "60000/60000 [==============================] - 96s 2ms/step - loss: 0.0107 - acc: 0.9966\n",
      "Epoch 20/30\n",
      "60000/60000 [==============================] - 115s 2ms/step - loss: 0.0100 - acc: 0.9969\n",
      "Epoch 21/30\n",
      "60000/60000 [==============================] - 103s 2ms/step - loss: 0.0094 - acc: 0.9970\n",
      "Epoch 22/30\n",
      "60000/60000 [==============================] - 98s 2ms/step - loss: 0.0085 - acc: 0.9971\n",
      "Epoch 23/30\n",
      "60000/60000 [==============================] - 98s 2ms/step - loss: 0.0062 - acc: 0.9981\n",
      "Epoch 24/30\n",
      "60000/60000 [==============================] - 98s 2ms/step - loss: 0.0076 - acc: 0.9975\n",
      "Epoch 25/30\n",
      "60000/60000 [==============================] - 96s 2ms/step - loss: 0.0076 - acc: 0.9977\n",
      "Epoch 26/30\n",
      "60000/60000 [==============================] - 96s 2ms/step - loss: 0.0062 - acc: 0.9981\n",
      "Epoch 27/30\n",
      "60000/60000 [==============================] - 95s 2ms/step - loss: 0.0072 - acc: 0.9977\n",
      "Epoch 28/30\n",
      "60000/60000 [==============================] - 95s 2ms/step - loss: 0.0068 - acc: 0.9978: 5s\n",
      "Epoch 29/30\n",
      "60000/60000 [==============================] - 95s 2ms/step - loss: 0.0092 - acc: 0.9974\n",
      "Epoch 30/30\n",
      "60000/60000 [==============================] - 95s 2ms/step - loss: 0.0082 - acc: 0.9977\n",
      "10000/10000 [==============================] - 5s 465us/step\n",
      "Test accuracy: 0.9926\n"
     ]
    },
    {
     "data": {
      "image/png": "[encoded data removed]",
      "text/plain": [
       "<Figure size 432x288 with 1 Axes>"
      ]
     },
     "metadata": {
      "needs_background": "light"
     },
     "output_type": "display_data"
    }
   ],
   "source": [
    "#best performing model seems to be this last one. Spo let's train it on the whole dataset now, and then evaluate\n",
    "net = networkStructure('relu', [-16, -16, 0, 32, 32, 0, -64, -64, 0], 'same', [0.3, 120, 0.2])\n",
    "\n",
    "adam = optimizers.Adam(lr=0.001, beta_1=0.9, beta_2=0.999)\n",
    "net.compile(optimizer=adam,\n",
    "              loss='sparse_categorical_crossentropy',\n",
    "              metrics=['accuracy'])\n",
    "hist = net.fit(x_train_2d, y_train, epochs=epoh, batch_size=minibatch*2)\n",
    "test_loss, test_acc = net.evaluate(x_test_2d, y_test)\n",
    "print('Test accuracy:', test_acc)\n",
    "plot_history(hist.history)"
   ]
  },
  {
   "cell_type": "code",
   "execution_count": 3,
   "metadata": {},
   "outputs": [
    {
     "name": "stderr",
     "output_type": "stream",
     "text": [
      "WARNING: Logging before flag parsing goes to stderr.\n",
      "W0809 21:32:29.468210 140579216480064 deprecation_wrapper.py:119] From /home/eva/.local/lib/python3.6/site-packages/keras/backend/tensorflow_backend.py:517: The name tf.placeholder is deprecated. Please use tf.compat.v1.placeholder instead.\n",
      "\n",
      "W0809 21:32:29.492930 140579216480064 deprecation_wrapper.py:119] From /home/eva/.local/lib/python3.6/site-packages/keras/backend/tensorflow_backend.py:4138: The name tf.random_uniform is deprecated. Please use tf.random.uniform instead.\n",
      "\n",
      "W0809 21:32:29.568662 140579216480064 deprecation_wrapper.py:119] From /home/eva/.local/lib/python3.6/site-packages/keras/backend/tensorflow_backend.py:245: The name tf.get_default_graph is deprecated. Please use tf.compat.v1.get_default_graph instead.\n",
      "\n",
      "W0809 21:32:29.569538 140579216480064 deprecation_wrapper.py:119] From /home/eva/.local/lib/python3.6/site-packages/keras/backend/tensorflow_backend.py:174: The name tf.get_default_session is deprecated. Please use tf.compat.v1.get_default_session instead.\n",
      "\n",
      "W0809 21:32:29.570416 140579216480064 deprecation_wrapper.py:119] From /home/eva/.local/lib/python3.6/site-packages/keras/backend/tensorflow_backend.py:181: The name tf.ConfigProto is deprecated. Please use tf.compat.v1.ConfigProto instead.\n",
      "\n",
      "W0809 21:32:29.647920 140579216480064 deprecation_wrapper.py:119] From /home/eva/.local/lib/python3.6/site-packages/keras/backend/tensorflow_backend.py:1834: The name tf.nn.fused_batch_norm is deprecated. Please use tf.compat.v1.nn.fused_batch_norm instead.\n",
      "\n",
      "W0809 21:32:29.737870 140579216480064 deprecation_wrapper.py:119] From /home/eva/.local/lib/python3.6/site-packages/keras/backend/tensorflow_backend.py:3976: The name tf.nn.max_pool is deprecated. Please use tf.nn.max_pool2d instead.\n",
      "\n",
      "W0809 21:32:29.983327 140579216480064 deprecation.py:506] From /home/eva/.local/lib/python3.6/site-packages/keras/backend/tensorflow_backend.py:3445: calling dropout (from tensorflow.python.ops.nn_ops) with keep_prob is deprecated and will be removed in a future version.\n",
      "Instructions for updating:\n",
      "Please use `rate` instead of `keep_prob`. Rate should be set to `rate = 1 - keep_prob`.\n",
      "W0809 21:32:30.248835 140579216480064 deprecation_wrapper.py:119] From /home/eva/.local/lib/python3.6/site-packages/keras/optimizers.py:790: The name tf.train.Optimizer is deprecated. Please use tf.compat.v1.train.Optimizer instead.\n",
      "\n",
      "W0809 21:32:30.342147 140579216480064 deprecation.py:323] From /home/eva/.local/lib/python3.6/site-packages/tensorflow/python/ops/math_grad.py:1250: add_dispatch_support.<locals>.wrapper (from tensorflow.python.ops.array_ops) is deprecated and will be removed in a future version.\n",
      "Instructions for updating:\n",
      "Use tf.where in 2.0, which has the same broadcast rule as np.where\n"
     ]
    }
   ],
   "source": [
    "from keras.models import load_model\n",
    "\n",
    "#net.save('my_model.h5')  # creates a HDF5 file 'my_model.h5'\n",
    "#del net  # deletes the existing model\n",
    "\n",
    "# returns a compiled model, identical to the previous one\n",
    "net = load_model('my_model.h5')"
   ]
  },
  {
   "cell_type": "code",
   "execution_count": 4,
   "metadata": {
    "scrolled": true
   },
   "outputs": [
    {
     "name": "stdout",
     "output_type": "stream",
     "text": [
      "_________________________________________________________________\n",
      "Layer (type)                 Output Shape              Param #   \n",
      "=================================================================\n",
      "conv2d_7 (Conv2D)            (None, 28, 28, 16)        160       \n",
      "_________________________________________________________________\n",
      "activation_9 (Activation)    (None, 28, 28, 16)        0         \n",
      "_________________________________________________________________\n",
      "conv2d_8 (Conv2D)            (None, 28, 28, 16)        2320      \n",
      "_________________________________________________________________\n",
      "activation_10 (Activation)   (None, 28, 28, 16)        0         \n",
      "_________________________________________________________________\n",
      "batch_normalization_4 (Batch (None, 28, 28, 16)        64        \n",
      "_________________________________________________________________\n",
      "conv2d_9 (Conv2D)            (None, 28, 28, 32)        4640      \n",
      "_________________________________________________________________\n",
      "max_pooling2d_3 (MaxPooling2 (None, 14, 14, 32)        0         \n",
      "_________________________________________________________________\n",
      "activation_11 (Activation)   (None, 14, 14, 32)        0         \n",
      "_________________________________________________________________\n",
      "conv2d_10 (Conv2D)           (None, 14, 14, 32)        9248      \n",
      "_________________________________________________________________\n",
      "max_pooling2d_4 (MaxPooling2 (None, 7, 7, 32)          0         \n",
      "_________________________________________________________________\n",
      "activation_12 (Activation)   (None, 7, 7, 32)          0         \n",
      "_________________________________________________________________\n",
      "batch_normalization_5 (Batch (None, 7, 7, 32)          128       \n",
      "_________________________________________________________________\n",
      "conv2d_11 (Conv2D)           (None, 7, 7, 64)          18496     \n",
      "_________________________________________________________________\n",
      "activation_13 (Activation)   (None, 7, 7, 64)          0         \n",
      "_________________________________________________________________\n",
      "conv2d_12 (Conv2D)           (None, 7, 7, 64)          36928     \n",
      "_________________________________________________________________\n",
      "activation_14 (Activation)   (None, 7, 7, 64)          0         \n",
      "_________________________________________________________________\n",
      "batch_normalization_6 (Batch (None, 7, 7, 64)          256       \n",
      "_________________________________________________________________\n",
      "flatten_2 (Flatten)          (None, 3136)              0         \n",
      "_________________________________________________________________\n",
      "dropout_3 (Dropout)          (None, 3136)              0         \n",
      "_________________________________________________________________\n",
      "dense_3 (Dense)              (None, 120)               376440    \n",
      "_________________________________________________________________\n",
      "activation_15 (Activation)   (None, 120)               0         \n",
      "_________________________________________________________________\n",
      "dropout_4 (Dropout)          (None, 120)               0         \n",
      "_________________________________________________________________\n",
      "dense_4 (Dense)              (None, 10)                1210      \n",
      "_________________________________________________________________\n",
      "activation_16 (Activation)   (None, 10)                0         \n",
      "=================================================================\n",
      "Total params: 449,890\n",
      "Trainable params: 449,666\n",
      "Non-trainable params: 224\n",
      "_________________________________________________________________\n"
     ]
    }
   ],
   "source": [
    "net.summary()"
   ]
  },
  {
   "cell_type": "code",
   "execution_count": 16,
   "metadata": {},
   "outputs": [],
   "source": [
    "from keras.utils import plot_model\n",
    "plot_model(net, to_file='/home/eva/Desktop/courses/current-courses/DeepLearningCourse/Assignment3/finalnet.png')"
   ]
  },
  {
   "cell_type": "code",
   "execution_count": 6,
   "metadata": {},
   "outputs": [],
   "source": [
    "from sklearn.metrics import confusion_matrix\n",
    "#plot the confusion matrix\n",
    "y_predicted = net.predict_classes(x_test_2d)"
   ]
  },
  {
   "cell_type": "code",
   "execution_count": 1,
   "metadata": {},
   "outputs": [
    {
     "ename": "NameError",
     "evalue": "name 'plt' is not defined",
     "output_type": "error",
     "traceback": [
      "\u001b[0;31m---------------------------------------------------------------------------\u001b[0m",
      "\u001b[0;31mNameError\u001b[0m                                 Traceback (most recent call last)",
      "\u001b[0;32m<ipython-input-1-0ae6cc1e0a8b>\u001b[0m in \u001b[0;36m<module>\u001b[0;34m\u001b[0m\n\u001b[1;32m      4\u001b[0m                           \u001b[0mnormalize\u001b[0m\u001b[0;34m=\u001b[0m\u001b[0;32mFalse\u001b[0m\u001b[0;34m,\u001b[0m\u001b[0;34m\u001b[0m\u001b[0;34m\u001b[0m\u001b[0m\n\u001b[1;32m      5\u001b[0m                           \u001b[0mtitle\u001b[0m\u001b[0;34m=\u001b[0m\u001b[0;32mNone\u001b[0m\u001b[0;34m,\u001b[0m\u001b[0;34m\u001b[0m\u001b[0;34m\u001b[0m\u001b[0m\n\u001b[0;32m----> 6\u001b[0;31m                           cmap=plt.cm.Blues):\n\u001b[0m\u001b[1;32m      7\u001b[0m     \"\"\"\n\u001b[1;32m      8\u001b[0m     \u001b[0mThis\u001b[0m \u001b[0mfunction\u001b[0m \u001b[0mprints\u001b[0m \u001b[0;32mand\u001b[0m \u001b[0mplots\u001b[0m \u001b[0mthe\u001b[0m \u001b[0mconfusion\u001b[0m \u001b[0mmatrix\u001b[0m\u001b[0;34m.\u001b[0m\u001b[0;34m\u001b[0m\u001b[0;34m\u001b[0m\u001b[0m\n",
      "\u001b[0;31mNameError\u001b[0m: name 'plt' is not defined"
     ]
    }
   ],
   "source": [
    "from sklearn.utils.multiclass import unique_labels\n",
    "\n",
    "def plot_confusion_matrix(y_true, y_pred, classes,\n",
    "                          normalize=False,\n",
    "                          title=None,\n",
    "                          cmap=plt.cm.Blues):\n",
    "    \"\"\"\n",
    "    This function prints and plots the confusion matrix.\n",
    "    Normalization can be applied by setting `normalize=True`.\n",
    "    \"\"\"\n",
    "    if not title:\n",
    "        if normalize:\n",
    "            title = 'Normalized confusion matrix'\n",
    "        else:\n",
    "            title = 'Confusion matrix' #, without normalization'\n",
    "\n",
    "    # Compute confusion matrix\n",
    "    cm = confusion_matrix(y_true, y_pred)\n",
    "    # Only use the labels that appear in the data\n",
    "    #classes = classes[unique_labels(y_true, y_pred)]\n",
    "    if normalize:\n",
    "        cm = cm.astype('float') / cm.sum(axis=1)[:, np.newaxis]\n",
    "        print(\"Normalized confusion matrix\")\n",
    "    else:\n",
    "        print('Confusion matrix without normalization')\n",
    "\n",
    "    print(cm)\n",
    "\n",
    "    fig, ax = plt.subplots()\n",
    "    im = ax.imshow(cm, interpolation='nearest', cmap=cmap)\n",
    "    ax.figure.colorbar(im, ax=ax)\n",
    "    # We want to show all ticks...\n",
    "    ax.set(xticks=np.arange(cm.shape[1]),\n",
    "           yticks=np.arange(cm.shape[0]),\n",
    "           # ... and label them with the respective list entries\n",
    "           xticklabels=classes, yticklabels=classes,\n",
    "           title=title,\n",
    "           ylabel='True label',\n",
    "           xlabel='Predicted label')\n",
    "\n",
    "    # Rotate the tick labels and set their alignment.\n",
    "    plt.setp(ax.get_xticklabels(), rotation=45, ha=\"right\",\n",
    "             rotation_mode=\"anchor\")\n",
    "\n",
    "    # Loop over data dimensions and create text annotations.\n",
    "    fmt = '.2f' if normalize else 'd'\n",
    "    thresh = cm.max() / 2.\n",
    "    for i in range(cm.shape[0]):\n",
    "        for j in range(cm.shape[1]):\n",
    "            ax.text(j, i, format(cm[i, j], fmt),\n",
    "                    ha=\"center\", va=\"center\",\n",
    "                    color=\"white\" if cm[i, j] > thresh else \"black\")\n",
    "    fig.tight_layout()\n",
    "    return ax\n",
    "\n",
    "\n",
    "plot_confusion_matrix(y_test, y_predicted, [i+1 for i in range(10)])"
   ]
  },
  {
   "cell_type": "code",
   "execution_count": 20,
   "metadata": {},
   "outputs": [],
   "source": [
    "#plot examples of images that were wrongly classified\n",
    "wrongs = y_test!=y_predicted\n",
    "wrongSlike = x_test_2d[wrongs, :].squeeze()"
   ]
  },
  {
   "cell_type": "code",
   "execution_count": 21,
   "metadata": {},
   "outputs": [
    {
     "data": {
      "text/plain": [
       "(74, 28, 28)"
      ]
     },
     "execution_count": 21,
     "metadata": {},
     "output_type": "execute_result"
    }
   ],
   "source": [
    "wrongSlike.shape"
   ]
  },
  {
   "cell_type": "code",
   "execution_count": 26,
   "metadata": {},
   "outputs": [
    {
     "data": {
      "image/png": "[encoded data removed]",
      "text/plain": [
       "<Figure size 1800x216 with 10 Axes>"
      ]
     },
     "metadata": {},
     "output_type": "display_data"
    }
   ],
   "source": [
    "def seeWrongs(x,y,y_p,n=10):\n",
    "    plt.figure(figsize = (n*2.5, 3))\n",
    "    indexi = np.random.randint(low=0, high=x.shape[0]-1, size=n)\n",
    "    for i in range(n):\n",
    "        ax = plt.subplot(1, n, i+1)\n",
    "        ax.imshow(x[indexi[i],:].reshape(28,28))\n",
    "        ax.set_title('True: {0}, predicted: {1}'.format(y[indexi[i]], y_p[indexi[i]]))\n",
    "        ax.set_xticks([])\n",
    "        ax.set_yticks([])\n",
    "\n",
    "seeWrongs(wrongSlike, y_test[wrongs], y_predicted[wrongs])"
   ]
  },
  {
   "cell_type": "markdown",
   "metadata": {},
   "source": [
    "For the best performing model, also include aconfusion matrixof the classification results on the test datapartition.  Provide a few examples of misclassified images (image, including a note about the real class and predicted class)."
   ]
  }
 ],
 "metadata": {
  "kernelspec": {
   "display_name": "Python 3",
   "language": "python",
   "name": "python3"
  },
  "language_info": {
   "codemirror_mode": {
    "name": "ipython",
    "version": 3
   },
   "file_extension": ".py",
   "mimetype": "text/x-python",
   "name": "python",
   "nbconvert_exporter": "python",
   "pygments_lexer": "ipython3",
   "version": "3.6.8"
  }
 },
 "nbformat": 4,
 "nbformat_minor": 2
}
