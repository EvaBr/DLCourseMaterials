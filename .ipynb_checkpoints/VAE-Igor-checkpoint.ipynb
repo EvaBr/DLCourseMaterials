{
 "cells": [
  {
   "cell_type": "markdown",
   "metadata": {},
   "source": [
    "# Implementing VAE"
   ]
  },
  {
   "cell_type": "code",
   "execution_count": 1,
   "metadata": {},
   "outputs": [
    {
     "name": "stderr",
     "output_type": "stream",
     "text": [
      "/home/eva/.local/lib/python3.6/site-packages/tensorflow/python/framework/dtypes.py:516: FutureWarning: Passing (type, 1) or '1type' as a synonym of type is deprecated; in a future version of numpy, it will be understood as (type, (1,)) / '(1,)type'.\n",
      "  _np_qint8 = np.dtype([(\"qint8\", np.int8, 1)])\n",
      "/home/eva/.local/lib/python3.6/site-packages/tensorflow/python/framework/dtypes.py:517: FutureWarning: Passing (type, 1) or '1type' as a synonym of type is deprecated; in a future version of numpy, it will be understood as (type, (1,)) / '(1,)type'.\n",
      "  _np_quint8 = np.dtype([(\"quint8\", np.uint8, 1)])\n",
      "/home/eva/.local/lib/python3.6/site-packages/tensorflow/python/framework/dtypes.py:518: FutureWarning: Passing (type, 1) or '1type' as a synonym of type is deprecated; in a future version of numpy, it will be understood as (type, (1,)) / '(1,)type'.\n",
      "  _np_qint16 = np.dtype([(\"qint16\", np.int16, 1)])\n",
      "/home/eva/.local/lib/python3.6/site-packages/tensorflow/python/framework/dtypes.py:519: FutureWarning: Passing (type, 1) or '1type' as a synonym of type is deprecated; in a future version of numpy, it will be understood as (type, (1,)) / '(1,)type'.\n",
      "  _np_quint16 = np.dtype([(\"quint16\", np.uint16, 1)])\n",
      "/home/eva/.local/lib/python3.6/site-packages/tensorflow/python/framework/dtypes.py:520: FutureWarning: Passing (type, 1) or '1type' as a synonym of type is deprecated; in a future version of numpy, it will be understood as (type, (1,)) / '(1,)type'.\n",
      "  _np_qint32 = np.dtype([(\"qint32\", np.int32, 1)])\n",
      "/home/eva/.local/lib/python3.6/site-packages/tensorflow/python/framework/dtypes.py:525: FutureWarning: Passing (type, 1) or '1type' as a synonym of type is deprecated; in a future version of numpy, it will be understood as (type, (1,)) / '(1,)type'.\n",
      "  np_resource = np.dtype([(\"resource\", np.ubyte, 1)])\n",
      "/home/eva/.local/lib/python3.6/site-packages/tensorboard/compat/tensorflow_stub/dtypes.py:541: FutureWarning: Passing (type, 1) or '1type' as a synonym of type is deprecated; in a future version of numpy, it will be understood as (type, (1,)) / '(1,)type'.\n",
      "  _np_qint8 = np.dtype([(\"qint8\", np.int8, 1)])\n",
      "/home/eva/.local/lib/python3.6/site-packages/tensorboard/compat/tensorflow_stub/dtypes.py:542: FutureWarning: Passing (type, 1) or '1type' as a synonym of type is deprecated; in a future version of numpy, it will be understood as (type, (1,)) / '(1,)type'.\n",
      "  _np_quint8 = np.dtype([(\"quint8\", np.uint8, 1)])\n",
      "/home/eva/.local/lib/python3.6/site-packages/tensorboard/compat/tensorflow_stub/dtypes.py:543: FutureWarning: Passing (type, 1) or '1type' as a synonym of type is deprecated; in a future version of numpy, it will be understood as (type, (1,)) / '(1,)type'.\n",
      "  _np_qint16 = np.dtype([(\"qint16\", np.int16, 1)])\n",
      "/home/eva/.local/lib/python3.6/site-packages/tensorboard/compat/tensorflow_stub/dtypes.py:544: FutureWarning: Passing (type, 1) or '1type' as a synonym of type is deprecated; in a future version of numpy, it will be understood as (type, (1,)) / '(1,)type'.\n",
      "  _np_quint16 = np.dtype([(\"quint16\", np.uint16, 1)])\n",
      "/home/eva/.local/lib/python3.6/site-packages/tensorboard/compat/tensorflow_stub/dtypes.py:545: FutureWarning: Passing (type, 1) or '1type' as a synonym of type is deprecated; in a future version of numpy, it will be understood as (type, (1,)) / '(1,)type'.\n",
      "  _np_qint32 = np.dtype([(\"qint32\", np.int32, 1)])\n",
      "/home/eva/.local/lib/python3.6/site-packages/tensorboard/compat/tensorflow_stub/dtypes.py:550: FutureWarning: Passing (type, 1) or '1type' as a synonym of type is deprecated; in a future version of numpy, it will be understood as (type, (1,)) / '(1,)type'.\n",
      "  np_resource = np.dtype([(\"resource\", np.ubyte, 1)])\n",
      "Using TensorFlow backend.\n"
     ]
    }
   ],
   "source": [
    "#imports\n",
    "from tensorflow.keras.layers import Dense, Activation, Add, Multiply, Input, Reshape, Lambda, Concatenate\n",
    "from tensorflow.keras.models import Model, Sequential\n",
    "from keras.datasets import mnist\n",
    "from tensorflow.keras.optimizers import Adam\n",
    "import tensorflow_probability as tfp\n",
    "from tensorflow.keras.utils import plot_model\n",
    "import tensorflow as tf\n",
    "import numpy as np\n",
    "import matplotlib.pyplot as plt\n",
    "from keras.callbacks import EarlyStopping\n",
    "\n",
    "#get data\n",
    "(x_train, y_train), (x_test, y_test) = mnist.load_data()\n",
    "x_train = x_train.reshape(-1, 784).astype('float32') / 255.\n",
    "x_test = x_test.reshape(-1, 784).astype('float32') / 255.\n",
    "\n",
    "#x_train = np.expand_dims(x_train, axis=-1)\n",
    "#x_test = np.expand_dims(x_test, axis=-1)\n",
    "\n",
    "#set parameters\n",
    "hidden_layer_size = 512\n",
    "latent_encoding_size = 3\n",
    "\n",
    "epochs = 50\n",
    "batch_size = 128"
   ]
  },
  {
   "cell_type": "code",
   "execution_count": 4,
   "metadata": {},
   "outputs": [
    {
     "name": "stdout",
     "output_type": "stream",
     "text": [
      "Model: \"model_1\"\n",
      "_________________________________________________________________\n",
      "Layer (type)                 Output Shape              Param #   \n",
      "=================================================================\n",
      "dense_3_input (InputLayer)   [(None, 784)]             0         \n",
      "_________________________________________________________________\n",
      "dense_3 (Dense)              (None, 512)               401920    \n",
      "_________________________________________________________________\n",
      "activation_3 (Activation)    (None, 512)               0         \n",
      "_________________________________________________________________\n",
      "MuAndSigma (Dense)           (None, 6)                 3078      \n",
      "_________________________________________________________________\n",
      "lambda_1 (Lambda)            (None, None)              0         \n",
      "_________________________________________________________________\n",
      "sequential_3 (Sequential)    (None, 784)               404240    \n",
      "=================================================================\n",
      "Total params: 809,238\n",
      "Trainable params: 809,238\n",
      "Non-trainable params: 0\n",
      "_________________________________________________________________\n",
      "Model: \"sequential_2\"\n",
      "_________________________________________________________________\n",
      "Layer (type)                 Output Shape              Param #   \n",
      "=================================================================\n",
      "dense_3 (Dense)              (None, 512)               401920    \n",
      "_________________________________________________________________\n",
      "activation_3 (Activation)    (None, 512)               0         \n",
      "_________________________________________________________________\n",
      "MuAndSigma (Dense)           (None, 6)                 3078      \n",
      "_________________________________________________________________\n",
      "lambda_1 (Lambda)            (None, None)              0         \n",
      "=================================================================\n",
      "Total params: 404,998\n",
      "Trainable params: 404,998\n",
      "Non-trainable params: 0\n",
      "_________________________________________________________________\n",
      "Model: \"sequential_3\"\n",
      "_________________________________________________________________\n",
      "Layer (type)                 Output Shape              Param #   \n",
      "=================================================================\n",
      "dense_4 (Dense)              (None, 512)               2048      \n",
      "_________________________________________________________________\n",
      "activation_4 (Activation)    (None, 512)               0         \n",
      "_________________________________________________________________\n",
      "dense_5 (Dense)              (None, 784)               402192    \n",
      "_________________________________________________________________\n",
      "activation_5 (Activation)    (None, 784)               0         \n",
      "=================================================================\n",
      "Total params: 404,240\n",
      "Trainable params: 404,240\n",
      "Non-trainable params: 0\n",
      "_________________________________________________________________\n"
     ]
    }
   ],
   "source": [
    "#make the VAE network skeleton\n",
    "\n",
    "def Sample(x):\n",
    "    #take half for mu and half for sigma. \n",
    "    #and get epsilon from N(0,1).\n",
    "    batch_size = tf.shape(x)[0]\n",
    "    latent_dim = tf.shape(x)[1]\n",
    "    half_latent = tf.floordiv(latent_dim, 2)\n",
    "    eps = tf.random_normal(shape=(batch_size, half_latent))\n",
    "    return tf.slice(x, [0,0], [batch_size,half_latent]) + tf.exp(0.5 * tf.slice(x, [0,half_latent], [batch_size,half_latent])) * eps\n",
    "    #keras.backend.slice(x, start, size)\n",
    "    \n",
    "Encoder = Sequential()\n",
    "Encoder.add(Dense(hidden_layer_size, input_shape = (784,)))\n",
    "Encoder.add(Activation(\"relu\"))\n",
    "Encoder.add(Dense(2*latent_encoding_size, name=\"MuAndSigma\"))\n",
    "Encoder.add(Lambda(Sample, output_shape=(3,)))\n",
    "                                                              \n",
    "Decoder = Sequential()\n",
    "Decoder.add(Dense(hidden_layer_size, input_shape=(latent_encoding_size,)))\n",
    "Decoder.add(Activation(\"relu\"))\n",
    "Decoder.add(Dense(784))\n",
    "Decoder.add(Activation(\"sigmoid\"))\n",
    "\n",
    "VAE = Model(inputs = Encoder.input, outputs=Decoder(Encoder.output))\n",
    "\n",
    "VAE.summary()\n",
    "Encoder.summary()\n",
    "Decoder.summary()"
   ]
  },
  {
   "cell_type": "code",
   "execution_count": 5,
   "metadata": {},
   "outputs": [
    {
     "name": "stderr",
     "output_type": "stream",
     "text": [
      "W0826 12:37:32.226842 140436686231360 deprecation.py:323] From /home/eva/.local/lib/python3.6/site-packages/tensorflow/python/ops/nn_impl.py:180: add_dispatch_support.<locals>.wrapper (from tensorflow.python.ops.array_ops) is deprecated and will be removed in a future version.\n",
      "Instructions for updating:\n",
      "Use tf.where in 2.0, which has the same broadcast rule as np.where\n"
     ]
    }
   ],
   "source": [
    "def KL_loss(x_GT, x):\n",
    "    batch_size = tf.shape(x)[0]\n",
    "    latent_dim = tf.shape(x)[1]\n",
    "    half_latent = tf.floordiv(latent_dim, 2)\n",
    "    mu = tf.slice(x, [0,0], [batch_size,half_latent])\n",
    "    sigma = tf.slice(x, [0,half_latent], [batch_size,half_latent])\n",
    "    return tf.reduce_mean(- 0.5 * tf.reduce_sum(1 + sigma - tf.square(mu) - tf.exp(sigma), axis=-1))\n",
    "\n",
    "def reconstruction_loss(x_GT,x):\n",
    "    return tf.reduce_mean(tf.keras.losses.binary_crossentropy(x_GT, x) * 784) #vae_model.outputs[0].log_prob(inp), axis=-1)\n",
    "\n",
    "VAE.add_loss(KL_loss(None, Encoder.get_layer('MuAndSigma').output))\n",
    "VAE.add_loss(reconstruction_loss(VAE.inputs[0], VAE.outputs[0]))"
   ]
  },
  {
   "cell_type": "code",
   "execution_count": null,
   "metadata": {},
   "outputs": [
    {
     "name": "stderr",
     "output_type": "stream",
     "text": [
      "W0826 12:37:38.203547 140436686231360 training_utils.py:1101] Output sequential_3 missing from loss dictionary. We assume this was done on purpose. The fit and evaluate APIs will not be expecting any data to be passed to sequential_3.\n"
     ]
    },
    {
     "name": "stdout",
     "output_type": "stream",
     "text": [
      "Train on 60000 samples, validate on 10000 samples\n",
      "Epoch 1/50\n",
      "59520/60000 [============================>.] - ETA: 0s - loss: 187.1479"
     ]
    }
   ],
   "source": [
    "#trening\n",
    "opt = Adam(lr=0.001)\n",
    "\n",
    "VAE.compile(optimizer=opt, metrics=[\"accuracy\"])\n",
    "\n",
    "earlyStop = EarlyStopping(monitor='val_loss', min_delta=0.5, patience=15) #, restore_best_weights=True)\n",
    "\n",
    "hist = VAE.fit(x_train, validation_data=(x_test, None), epochs=epochs, batch_size=batch_size)"
   ]
  }
 ],
 "metadata": {
  "kernelspec": {
   "display_name": "Python 3",
   "language": "python",
   "name": "python3"
  },
  "language_info": {
   "codemirror_mode": {
    "name": "ipython",
    "version": 3
   },
   "file_extension": ".py",
   "mimetype": "text/x-python",
   "name": "python",
   "nbconvert_exporter": "python",
   "pygments_lexer": "ipython3",
   "version": "3.6.8"
  }
 },
 "nbformat": 4,
 "nbformat_minor": 2
}
